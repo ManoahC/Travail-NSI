{
  "metadata": {
    "colab": {
      "provenance": []
    },
    "kernelspec": {
      "name": "python",
      "display_name": "Python (Pyodide)",
      "language": "python"
    },
    "language_info": {
      "codemirror_mode": {
        "name": "python",
        "version": 3
      },
      "file_extension": ".py",
      "mimetype": "text/x-python",
      "name": "python",
      "nbconvert_exporter": "python",
      "pygments_lexer": "ipython3",
      "version": "3.8"
    }
  },
  "nbformat_minor": 5,
  "nbformat": 4,
  "cells": [
    {
      "cell_type": "markdown",
      "source": "---",
      "metadata": {},
      "id": "ed0a8088"
    },
    {
      "cell_type": "markdown",
      "source": " <p align =center> <img src=\"https://github.com/esabahi/NSI_Images/blob/main/NSI-Image.png?raw=true\" width=350>\n    </p>",
      "metadata": {},
      "id": "b88a1932"
    },
    {
      "cell_type": "markdown",
      "source": "# TD5.3 - Programmation_Orientée_Objet\n\n\n****************************************\n\n",
      "metadata": {
        "id": "W84lcE_dziVB"
      },
      "id": "W84lcE_dziVB"
    },
    {
      "cell_type": "markdown",
      "source": "Exercice 1:",
      "metadata": {},
      "id": "f083c0e8"
    },
    {
      "cell_type": "markdown",
      "source": "Votre réponse:\n\n---------\n<font color='green'>ici.....</font>\n",
      "metadata": {
        "id": "1c703444"
      },
      "id": "1c703444"
    },
    {
      "cell_type": "code",
      "source": "class Film:\n    def __init__(self, titre, réalisateur, année):\n        self.titre = titre\n        self.réalisateur = réalisateur\n        self.année = année\n    \n    def get_titre(self):\n        return self.titre\n    \n    def set_titre(self):\n        self.titre = titre\n    \n    def get_réalisateur(self):\n        return self.réalisateur\n    \n    def set_réalisateur(self):\n        self.réalisateur = réalisateur\n    \n    def __repr__(self):\n        return f\"{self.titre} est un film de {self.réalisateur}.\"\n    \nclass Personne:\n    def __init__(self, nom, année_naissance, lieu_naissance):\n        self.nom = nom\n        self.année_naissance = année_naissance\n        self.lieu_naissance = lieu_naissance\n    \n    def get_nom(self):\n        return self.nom\n    \n    def set_nom(self):\n        self.nom = nom\n    \n    def get_année_naissance(self):\n        return self.année_naissance\n    \n    def set_année_de_naissance(self):\n        self.année_de_naissance = année_de_naissance\n    \n    def get_lieu_de_naissance(self):\n        return self.lieu_naissance\n    \n    def set_lieu_de_naissance(self):\n        self.lieu_naissance = lieu_de_naissance\n        \n    def __repr__(self):\n        return f\"{self.nom} est née en {self.année_naissance} à {self.lieu_naissance}\"\n        \nacteur = Personne(\"Baptiste\", 2006, \"Lille\")\nréalisateur = Personne(\"Yohann\",\"2006\",\"Linselles\")\nprint(réalisateur)",
      "metadata": {
        "vscode": {
          "languageId": "plaintext"
        },
        "trusted": true
      },
      "execution_count": 16,
      "outputs": [
        {
          "name": "stdout",
          "text": "Yohann est née en 2006 à Linselles\n",
          "output_type": "stream"
        }
      ],
      "id": "8c5f9934"
    },
    {
      "cell_type": "markdown",
      "source": "Exercice 2:",
      "metadata": {},
      "id": "260c6300"
    },
    {
      "cell_type": "markdown",
      "source": "Votre réponse:\n\n---------\n<font color='green'>ici.....</font>\n",
      "metadata": {},
      "id": "a8a8886a"
    },
    {
      "cell_type": "code",
      "source": "class Adresse:\n    def __init__(self, rue, ville, code_ponstal):\n        self.rue = rue\n        self.ville = ville\n        self.code_postal = code_postal\n        \n    def get_rue(self):\n        return self.rue\n    \n    def set_nom(self):\n        self.rue = rue\n    \n    def get_ville(self):\n        return self.ville\n    \n    def set_ville(self):\n        self.ville = ville\n    \n    def get_code_postal(self):\n        return self.lieu_naissance\n    \n    def set_lieu_de_naissance(self):\n        self.code_postal = code_postal\n        \nclass Personne:\n    def __init__(self, nom, sexe, adresses):\n        self.nom = nom\n        self.sexe = sexe\n        self.adresses = adresses\n        \n    def get_nom(self):\n        return self.nom\n    \n    def set_nom(self):\n        self.nom = nom\n    \n    def get_sexe(self):\n        return self.sexe\n    \n    def set_sexe(self):\n        self.sexe = sexe\n    \n    def get_adresses(self):\n        return self.adresses\n    \n    def set_adresses(self):\n        self.adresses = adresses\n\nclass find_by_nom:\n    def __init__(self, personnes):\n        self.personnes = personnes\n        \n    def get_personnes(self):\n        return self.personnes\n    \n    def setter_personnes(self):\n        self.personnes = personnes\n        \n    def find_my_nom(self, s):\n        for i in range(self.personnes):\n            if i == s:\n                return i\n        return False\n    \n    def exists_code_postal(self, cp):\n        for i in range(self.personnes):\n            if i == cp:\n                return i\n        return False\n    \n    def count_personnnes_ville(self, ville):\n        x = 0\n        for i in range(self.personnes):\n            if self.adresses in ville:\n                x = x + 1\n        return x\n    \n    def edit_personne_nom(self, oldNom, NewNom):\n        for i in range(self.personnes)\n        if i == OldNom:\n            i = NewNom\n            \n    def edit_personne_ville(self, nom, newVille):\n        for i in range(self.personnes):\n            if i == nom:\n                self.ville = newVille",
      "metadata": {
        "vscode": {
          "languageId": "plaintext"
        }
      },
      "execution_count": null,
      "outputs": [],
      "id": "0c4d13fa"
    }
  ]
}