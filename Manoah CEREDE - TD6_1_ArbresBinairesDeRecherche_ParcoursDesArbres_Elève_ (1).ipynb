{
  "metadata": {
    "colab": {
      "provenance": []
    },
    "language_info": {
      "name": ""
    },
    "kernelspec": {
      "name": "python",
      "display_name": "Python (Pyodide)",
      "language": "python"
    }
  },
  "nbformat_minor": 5,
  "nbformat": 4,
  "cells": [
    {
      "cell_type": "markdown",
      "source": "\n#TD6.1.ArbresBinairesDeRecherche-ParcoursDesArbres\n\n\n\n\n\n\n<p align =center>\n\n <img src='https://github.com/esabahi/NSI_Images/blob/main/NSI-Image.png?raw=true' width=400>\n\n</p>\n\n\n",
      "metadata": {
        "id": "krJhJZACyCSo"
      },
      "id": "krJhJZACyCSo"
    },
    {
      "cell_type": "markdown",
      "source": "\n> **<u>Objectifs</u>**\n\n-   Travailler les capacités abordées dans le cours et attendues par le\n    programme officiel sur la définition d’une structure de données en\n    Arbre et les algorithmes de parcours et de recherche.\n\n\n> **<u>Consignes:</u>**\n\n-   Vous pouvez exploiter le code Python de la classe Arbre vu\n    pendantle  cours C2.2.LesArbres ou le TP2.2\n\n-   N'oubliez pas de commenter votre code et de laisser les différents\n    tests que vous auriez effectués sur votre code.",
      "metadata": {
        "id": "L9Zj1T9IyYCm"
      },
      "id": "L9Zj1T9IyYCm"
    },
    {
      "cell_type": "markdown",
      "source": "\n\n**Exercice 1 : Arbres Binaires De Recherche**\n\n **<u>Définition:</u>**\n\nUn arbre binaire de recherche ABR (**Binary Search Tree (BST) en\nanglais)** est un arbre binaire étiqueté avec des clés tel que:\n\n-   Les clés du sous arbre gauche sont inférieures ou égales à celle de\n  la racine;\n\n-   Les clés du sous arbre droit sont strictement supérieures à celle de\n  la racine;\n\n-   Les deux sous arbres sont eux-mêmes des arbres binaires de\n    recherche.\n\n1.  **<u>Exploiter un arbre binaire de recherche</u>**\n\n    a.  Écrire une fonction **isaBST** qui indique si un arbre binaire\n est un arbre binaire de recherche\n",
      "metadata": {
        "id": "Yn2dkDtdy_ql"
      },
      "id": "Yn2dkDtdy_ql"
    },
    {
      "cell_type": "markdown",
      "source": "#Ecrire votre code ci-dessous:\n\nclass ArbreBinaire:\n  def __init__(self, valeur):\n    self.contenu = valeur\n    self.filsGauche = None\n    self.filsDroit = None\n\n  def ajoutFilsGauche(self, valeur):\n    if self.filsGauche == None :\n      self.filsGauche = ArbreBinaire(valeur)\n    else :\n      self.filsGauche.ajoutFilsGauche(valeur)\n\n  def ajoutFilsDroit(self, valeur):\n    if self.filsDroit == None :\n      self.filsDroit = ArbreBinaire(valeur)\n    else :\n      self.filsDroit.ajoutFilsDroit(valeur)\n\n  def ajoutContenu(self, valeur):\n    if valeur != self.contenu:\n      if valeur < self.contenu:\n        if self.filsGauche == None:      # On peut utiliser la méthode ajoutFilsGauche\n          self.filsGauche = ArbreBinaire(valeur)\n        else:\n          self.filsGauche.ajoutContenu(valeur)\n      else:\n        if self.filsDroit == None:      # On peut utiliser la méthode ajoutFilsDroit\n          self.filsDroit = ArbreBinaire(valeur)\n        else:\n          self.filsDroit.ajoutContenu(valeur)\n\n  def __str__(self):\n    return (\"[ Contenu : {} / Fils Gauche : {} / Fils Droit : {} ] \".format(self.contenu, self.filsGauche, self.filsDroit));\n\n\n# Test de la création d'un arbre\n\narbreWiki = ArbreBinaire(8)           # Instanciation de la racine de l'arbre avec la valeur 8\narbreWiki.ajoutContenu(3)             # Ajout des données\narbreWiki.ajoutContenu(10)\narbreWiki.ajoutContenu(1)\narbreWiki.ajoutContenu(6)\narbreWiki.ajoutContenu(14)\narbreWiki.ajoutContenu(4)\narbreWiki.ajoutContenu(7)\narbreWiki.ajoutContenu(13)\n\ndef rechercheArbreBinaire(arbre):\n    if arbre.contenu == None:\n        return True\n    elif arbre.filsGauche != None and arbre.filsGauche >= arbre.contenu:\n        return False\n    elif arbre.filsDroit != None and arbre.filsDroit <= arbre.contenu:\n        return False\n    rechercheArbreBinaire(arbre.filsGauche) and rechercheArbreBinaire(arbre.filsDroit)",
      "metadata": {
        "id": "5vR68q7k0Bmv"
      },
      "id": "d39b0a8d-c50a-4c7a-84a6-9b51076305af"
    },
    {
      "cell_type": "markdown",
      "source": "2. Écrire une fonction **smallestElementBST** qui renvoie le plus petit élément d’un arbre binaire de recherche",
      "metadata": {
        "id": "vPE3GacS1Mhx"
      },
      "id": "vPE3GacS1Mhx"
    },
    {
      "cell_type": "code",
      "source": "#Ecrire votre code ci-dessous:\n\ndef smallestElementBST(arbre):\n    while arbre.filsGauche is not None:\n        arbre = arbre.filsGauche\n\n    return arbre.contenu\ngreatestElementBST(arbreWiki)",
      "metadata": {
        "id": "j1mAI4or26NK"
      },
      "execution_count": null,
      "outputs": [],
      "id": "j1mAI4or26NK"
    },
    {
      "cell_type": "markdown",
      "source": "3.  Écrire une fonction **greatestElementBST** qui renvoie le plus grand élément d’un arbre binaire de recherche.",
      "metadata": {
        "id": "SDDT5Tgi2y__"
      },
      "id": "SDDT5Tgi2y__"
    },
    {
      "cell_type": "code",
      "source": "#Ecrire votre code ci-dessous:\n\ndef greatestElementBST(arbre):\n    while arbre.filsDroit is not None:\n        arbre = arbre.filsDroit\n\n    return arbre.contenu\nprint(greatestElementBST(arbreWiki))",
      "metadata": {
        "id": "dX-nyyE824gN"
      },
      "execution_count": null,
      "outputs": [],
      "id": "dX-nyyE824gN"
    },
    {
      "cell_type": "markdown",
      "source": "4. Écrire un fonction **existElementBST** qui indique si une valeur donnée en paramètre est présente dans un arbre binaire de recherche.\n",
      "metadata": {
        "id": "QR493X7G265O"
      },
      "id": "QR493X7G265O"
    },
    {
      "cell_type": "code",
      "source": "#Ecrire votre code ci-dessous:\n\ndef existElementBST(arbre, valeur):\n    if arbre.contenu == None:\n        return False\n\n    if arbre.contenu == valeur:\n        return True\n\n    if valeur < arbre.contenu:\n        return existElementBST(arbre.filsGauche, valeur)\n    else:\n        return existElementBST(arbre.filsDroit, valeur)\nprint(existElementBST(arbreWiki))",
      "metadata": {
        "id": "7oCuHgvB3CNI"
      },
      "execution_count": null,
      "outputs": [],
      "id": "7oCuHgvB3CNI"
    },
    {
      "cell_type": "markdown",
      "source": "5.  Écrire une fonction **insertElementBST** qui permet d'insérer un élément dans un arbre binaire de recherche.\n",
      "metadata": {
        "id": "Tj_UavXD3DAh"
      },
      "id": "Tj_UavXD3DAh"
    },
    {
      "cell_type": "code",
      "source": "#Ecrire votre code ci-dessous:\n\ndef insertElementBST(arbre,valeur):\n    if arbre.contenu == None:\n        arbre.contenu = valeur\n    if arbre.contenu < valeur:\n        insertElementBST(arbre.filsGauche,valeur)\n    if arbre.contenu > valeur:\n        insertElementBST(arbre.filsDroit,valeur)",
      "metadata": {
        "id": "7BtNw4pS3GZp"
      },
      "execution_count": null,
      "outputs": [],
      "id": "7BtNw4pS3GZp"
    },
    {
      "cell_type": "markdown",
      "source": "\n6.  Écrire une fonction **removeElementBST** qui permet de supprimer un élément dans un arbre binaire de recherche",
      "metadata": {
        "id": "nOq6Qnu63LZ8"
      },
      "id": "nOq6Qnu63LZ8"
    },
    {
      "cell_type": "code",
      "source": "#Ecrire votre code ci-dessous:\n\ndef removeElementBST(arbre,valeur):\n    if arbre.contenu == valeur:\n        arbre.contenu == None\n    if arbre.contenu < valeur:\n        removeElementBST(arbre.filsGauche,valeur)\n    if arbre.contenu > valeur:\n        removeElementBST(arbre.filsDroit,valeur)\n    return arbre",
      "metadata": {
        "id": "Pl-1sTfE3S2t"
      },
      "execution_count": null,
      "outputs": [],
      "id": "Pl-1sTfE3S2t"
    },
    {
      "cell_type": "markdown",
      "source": "*Exercice 2 : Arbres représentant des expressions arithmétiques**\n\nLes quatres opérations +,-,$\\times$,et $\\div$sont des opérateurs binaires.\n\nUne expression ne comptant que ces opérations peut être représentée sous\nforme d’arbre binaire comportant deux sortes de nœuds: les noeuds\ninternes sont des opérateurs et les feuilles sont des nombres.\n\n1.  **<u>Représentation</u>**\n\nReprésenter par un dessin (sur Drawings par exemple) l’arbre de l’expression suivante (12x9)+(8-5). Joindre votre dessin à votre rendu.\n\n2.  **<u>Construction d’une instance</u>**\n\nEn reprenant le code de la classe Arbre construire une instance E représentant l'expression précédente\n",
      "metadata": {
        "id": "0UQq50eY3bxP"
      },
      "id": "0UQq50eY3bxP"
    },
    {
      "cell_type": "code",
      "source": "#Ecrire votre code ci-dessous:",
      "metadata": {
        "id": "LS-6QDsb3wki"
      },
      "execution_count": null,
      "outputs": [],
      "id": "LS-6QDsb3wki"
    },
    {
      "cell_type": "markdown",
      "source": "\n3.  **<u>Parcours</u>**\n\n-   Choisir le parcours adéquat (parmi les quatre parcours vu en cours) qui permettra une lecture correcte de l’expression ci-dessus puis son affichage.\n\n-   Écrire la fonction permettant son affichage selon le parcours choisi.",
      "metadata": {
        "id": "-5ikPz063xQx"
      },
      "id": "-5ikPz063xQx"
    },
    {
      "cell_type": "code",
      "source": "#Ecrire votre code ci-dessous:",
      "metadata": {
        "id": "GQpK0wip36Pb"
      },
      "execution_count": null,
      "outputs": [],
      "id": "GQpK0wip36Pb"
    },
    {
      "cell_type": "markdown",
      "source": "\n**Exercice 3 : Arbres syntaxiques**\n\nPython dispose d’une grammaire qui indique la structure des programmes.\n\nLorsque l'interpréteur Python lit du code source, il construit tout\nd’abord l’arbre syntaxique du code.\n\n1.  **<u>Représentation</u>**\n\n> Dresser l’arbre du programme suivant sur un dessin(menu insertion Dessin):",
      "metadata": {
        "id": "4DayQvQyT-9o"
      },
      "id": "4DayQvQyT-9o"
    },
    {
      "cell_type": "code",
      "source": "a=3\nwhile(a>0):\n  a=a-1\n  print(a)",
      "metadata": {
        "id": "Ba697vMqUB1C"
      },
      "execution_count": null,
      "outputs": [],
      "id": "Ba697vMqUB1C"
    },
    {
      "cell_type": "markdown",
      "source": "\n\n\n2.  **<u>Construction d’une instance</u>**\n\n> En reprenant le code de la classe Arbre construire une instance P représentant l’arbre du programme précédent.\n\n3.  **<u>Parcours</u>**\n\n-   Choisir le parcours adéquat (parmi les quatre parcours vu en cours) qui permettra une lecture correcte du programme.\n\n-   Écrire la fonction permettant son affichage selon le parcours choisi.",
      "metadata": {
        "id": "Y1tTemka3_YT"
      },
      "id": "Y1tTemka3_YT"
    },
    {
      "cell_type": "code",
      "source": "#Ecrire votre code ci-dessous:",
      "metadata": {
        "id": "ksJJNm9PT2Fw"
      },
      "execution_count": null,
      "outputs": [],
      "id": "ksJJNm9PT2Fw"
    },
    {
      "cell_type": "markdown",
      "source": "|<span style='color:Blue'> E.S |  | |   | |     |<span style='color:Blue'> NSI Première & Terminale | |   | ||<span style='color:Blue'> Lycée Ozanam (Lille)\n| --- | --- |--- |--- |--- |--- | --- | --- |--- |--- | --- | --- |",
      "metadata": {
        "id": "RunMWhnXz9n3"
      },
      "id": "RunMWhnXz9n3"
    }
  ]
}