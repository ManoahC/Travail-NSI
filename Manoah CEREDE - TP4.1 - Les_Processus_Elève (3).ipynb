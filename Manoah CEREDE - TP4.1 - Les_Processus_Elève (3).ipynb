{
  "metadata": {
    "kernelspec": {
      "name": "python",
      "display_name": "Python (Pyodide)",
      "language": "python"
    },
    "language_info": {
      "codemirror_mode": {
        "name": "python",
        "version": 3
      },
      "file_extension": ".py",
      "mimetype": "text/x-python",
      "name": "python",
      "nbconvert_exporter": "python",
      "pygments_lexer": "ipython3",
      "version": "3.8"
    },
    "colab": {
      "provenance": []
    }
  },
  "nbformat_minor": 5,
  "nbformat": 4,
  "cells": [
    {
      "id": "OEBcAtGge0et",
      "cell_type": "markdown",
      "source": "#TP4.1 - LES PROCESSUS\n\n\n\n\n\n\n<p align =center>\n\n <img src='https://github.com/esabahi/NSI_Images/blob/main/NSI-Image.png?raw=true' width=400>\n\n</p>",
      "metadata": {
        "id": "OEBcAtGge0et"
      }
    },
    {
      "id": "265cJuaRfOb4",
      "cell_type": "markdown",
      "source": "**C’est quoi un processus?**\n\nUn programme est statique. Son exécution change l’état du processeur et de la mémoire. Après avoir appris comment écrire un programme, il s’agit de comprendre comment la machine organise son traitement alors que bien d’autres programmes sont aussi en cours d’exécution.\n\nIl faut distinguer un programme de son exécution: le lancement d’un programme entraîne des lecture/écriture de registres et d’une partie de la mémoire.\n\nD’ailleurs, un même programme peut être exécuté plusieurs fois sur une même\n\nmachine au même moment en occupant des espaces mémoire différents. Un processus représente une instance d’exécution d’un programme dans une machine donnée.\n\n**Les états d’un processus**\n\nAu cours de son existence dans la machine, un même processus peut se\nretrouver dans différents états qui sont résumés ci-dessous.\n\n• Un processus est créé et se trouve alors dans l’état prêt: il attend\nde pouvoir avoir accès au processeur.\n\n• Le processus obtient l’accès au processeur. Il passe alors dans l'état\nélu.\n\n• Alors qu’il est élu, le processus peut avoir besoin d’attendre une\nressource quelconque comme, par exemple, une ressource en mémoire. Il\ndoit alors quitter momentanément le processeur pour que celui-ci puisse\nêtre utilisé à d’autres tâches (le processeur ne doit pas attendre!). Le\nprocessus passe donc dans l’état bloqué.\n\n• Le processus a obtenu la ressource attendue mais s’est fait prendre sa\nplace dans le processeur par un autre processus. Il se met donc en\nattente et repasse à l’état prêt.\n\n• Un processus ne pourra se terminer que s’il est déjà dans l’état élu\nsauf anomalie.",
      "metadata": {
        "id": "265cJuaRfOb4"
      }
    },
    {
      "id": "EfWC4wwmfuUB",
      "cell_type": "markdown",
      "source": "<p align =center>\n\n <img src='https://upload.wikimedia.org/wikipedia/commons/thumb/6/68/Diagrammed%C3%A9tatdunprocessus_1.png/250px-Diagrammed%C3%A9tatdunprocessus_1.png' width=400>\n\n</p>",
      "metadata": {
        "id": "EfWC4wwmfuUB"
      }
    },
    {
      "id": "zaakCWDjg_Nn",
      "cell_type": "markdown",
      "source": "# Les commandes Linux de gestion des processus :\n\n1) La commande ps :\nLa commande ps (penser à ProcessuS) est utilisée pour afficher des informations sur un processus. L’option u permet de préciser le propriétaire, l’option l permet un affichage avec plus d’attributs (long).\n\nPar exemple, pour connaître les processus appartenant à l’utilisateur moi:\n\n• La colonne S indique l’état (state) du processus: S pour stopped, R\npour running et Z pour zombie.\n\n• PID est le processus identifier: un identifiant sous forme d’entier\ndonné par le système.\n\n• PPID est le parent processus identifier qui donne l’identifiant du\nparent qui a engendré le processus.\n\n• CMD est le nom de la commande.\nSon équivalent sous windows est tasklist. (voir: https://fr.wikipedia.org/wiki/Tasklist)\n\n2) La commande kill\n\nIl n’est parfois pas possible de fermer un processus graphique en\ncliquant par exemple sur la croix prévue pourtant à cet effet. On peut\nutiliser la commande kill si on connaît le PID du processus à « tuer »\nqui peut être obtenu avec l’option C de ps.\n\nOn découvre une « généalogie » des processus.",
      "metadata": {
        "id": "zaakCWDjg_Nn"
      }
    },
    {
      "id": "Vlm-b-VCrTUm",
      "cell_type": "code",
      "source": "'''Commandes Linux pour la gestion des Processus:\n&\nLancer un processus en arrièr­e-plan\nps\nAfficher les processus en cours\njobs\nLister les processus en arrièr­e-plan\nfg\nBasculer un processus en avant-plan\nbg\nBasculer un processus en arrièr­e-plan\nwait\nAttendre la fin d'un processus\nkill\nArrêter un processus\nnice\nChanger la priorité d'un processus\ntime\nMesurer le temps d'exéc­ution d'un processus\ntop\nMontrer les processus actifs et leurs détails'''",
      "metadata": {
        "colab": {
          "base_uri": "https://localhost:8080/",
          "height": 70
        },
        "id": "Vlm-b-VCrTUm",
        "outputId": "38f8e96b-855b-4077-e44a-93c3f2307540"
      },
      "outputs": [
        {
          "output_type": "execute_result",
          "data": {
            "text/plain": [
              "\"Commandes Linux pour la gestion des Processus\\n&\\nLancer un processus en arrièr\\xade-plan\\nps\\nAfficher les processus en cours\\njobs\\nLister les processus en arrièr\\xade-plan\\nfg\\nBasculer un processus en avant-plan\\nbg\\nBasculer un processus en arrièr\\xade-plan\\nwait\\nAttendre la fin d'un processus\\nkill\\nArrêter un processus\\nnice\\nChanger la priorité d'un processus\\ntime\\nMesurer le temps d'exéc\\xadution d'un processus\\ntop\\nMontrer les processus actifs et leurs détails\""
            ],
            "application/vnd.google.colaboratory.intrinsic+json": {
              "type": "string"
            }
          },
          "metadata": {},
          "execution_count": 2
        }
      ],
      "execution_count": null
    },
    {
      "id": "2M2OyIlxlEUc",
      "cell_type": "markdown",
      "source": "# L’ordonnancement\n\nLe système dispose d’un ordonnanceur qui permet de gérer les accès\nconcurrents aux ressources et prévenir certains problèmes que nous\nallons évoquer.\n\nPlusieurs processus peuvent être dans l’état prêt:\n\nComment choisir celui qui sera élu? L’ordonnanceur (scheduler) classe\nles processus prêts dans une file et le répartiteur (dispatcher) alloue\nquant à lui un processeur à l’élu dans le cas d’une architecture\nmultiprocesseur. Il existe plusieurs politiques d’ordonnancement dont le\nchoix va dépendre des objectifs du système.\n\nVoici quelques exemples:\n\n• Premier arrivé, premier servi: simple, mais peu adapté à la plupart\ndes situations.\n\n• Plus court d’abord: très efficace, mais il est la plupart du temps\nimpossible de connaître à l’avance le temps d’exécution d’un processus.\n\n• Priorité: le système alloue un niveau de priorité aux processus\n(SCHED_FIFO sur Linux). Cependant des processus de faible priorité\npeuvent ne jamais être élus.\n\n• Tourniquet: un quantum de temps est alloué à chaque processus\n(SCHED_RR sous Linux). Si le processus n’est pas terminé au bout de ce\ntemps, il est mis en bout de file en état prêt.\n\n• Un système hybride entre tourniquet et priorité qu’on retrouve dans\nles systèmes Unix.\n",
      "metadata": {
        "id": "2M2OyIlxlEUc"
      }
    },
    {
      "id": "Gc0Zhe1ilOkc",
      "cell_type": "markdown",
      "source": "\n# Un problème d’interblocage\n\n-   Imaginons :\n\n    > Un processus P1 demandant et obtenant une ressource R1 puis commuté par l’ordonnanceur.\n     Un processus P2 est élu et demande et obtient R2 puis demande R1 mais ne peut l’obtenir car détenue par P1.\n    > P2 est donc commuté et P1 est élu et demande R2.\n    > Il est à son tour commuté et P2 est élu car R2 est détenue par P2.\n\n-   Les processus P1 et P2 sont alors bloqués dans l’attente l’un de l’autre dans un cycle sans fin.\n\n-   On parle dans ce cas d’interblocage. Des solutions (détection/guérison ou prévention) sont mises en place qui ne seront pas étudiées\n\n<p align =center>\n\n <img src='https://github.com/esabahi/NSI_Images/blob/main/Interblocage.png?raw=true' width=400>\n\n</p>\n\n# Threads – Processus légers:\n\n-   Un thread (fil en français) désigne ce qui est appelé en français\n    > processus léger.\n\n-   Plutôt que de se voir allouer une partie de la mémoire,\n    >les processus légers forment des groupes qui vont se partager un même espace mémoire mais ont chacun leur propre pile d’exécution.\n\n-   Cette technique permet, par exemple,\n    > de faciliter le parallélismesur des machines multiprocesseurs,\n    > ou de pouvoir laisser descalculs lourds se faire dans un fil et les échanges via le clavier et l’écran dans un autre.\n    > En contrepartie, les données étant partagées dans le même espace mémoire,\n    > cela impose une plus grande surveillance pour la synchronisation\n\n",
      "metadata": {
        "id": "Gc0Zhe1ilOkc"
      }
    },
    {
      "id": "P8baDFfJpv-S",
      "cell_type": "markdown",
      "source": "\n # Exercice 1: l’interblocage\n\n\nSept processus Pi sont dans la situation suivante par rapport aux\nressources Ri:\n\n• P1 a obtenu R1 et demande R2;\n\n• P2 demande R3 et n’a obtenu aucune ressource tout comme P3 qui demande\nR2; • P4 a obtenu R2 et R4 et demande R3;\n\n• P5 a obtenu R3 et demande R5;\n\n• P6 a obtenu R6 et demande R2;\n\n• P7 a obtenu R5 et demande R2.\n\nOn voudrait savoir s’il y a interblocage.\n\na\\ Construire un graphe orienté sur un outil de dessin de votre choix où les sommets sont les processus et les ressources, et où:\n\n• La présence de l’arc Ri → Pj signifie que le processus Pj a obtenu la\nressource Ri;\n\n• La présence de l’arc Pj → Ri signifie que le processus Pj demande la\nressource Ri.\n\nJoindre le fichier à votre rendu!\n\nb) Il y a interblocage lorsque des cycles sont présents\ndans le graphe. Chercher ces cycles afin de déterminer s’il y a bien interblocage.\n\nOui il y a interblocage car on a un cycle dans le graphe orienté qui est : (R2 - P4 - R3 - P5 - R5 - P7 - R2)",
      "metadata": {
        "id": "P8baDFfJpv-S"
      },
      "attachments": {}
    },
    {
      "id": "G28pW3ufqVIa",
      "cell_type": "markdown",
      "source": "\n # Exercice 2: Lancer un processus\n\n\n1.  Observer et commenter le code suivant.\n\n\n\n\n",
      "metadata": {
        "id": "G28pW3ufqVIa"
      }
    },
    {
      "id": "JFiM-BH4suMt",
      "cell_type": "code",
      "source": "# Exercice 2\n\nimport multiprocessing, os, time\nfrom multiprocessing import Process, Pool\n\ndef info(title): # fonction permettant d'afficher le titre mit en paramètre avec les informations sur le processus en cours, le PID du processus père de celui appelé et l'ID du processus\n    print(title)\n    print('Processus :', multiprocessing.current_process().name)\n    print('parent process :',os.getppid())\n    print('process id:',os.getpid())\n    print('*'*60)\n\ndef f(name): # fonction permettant d'afficher bonjour suivit du name mit en paramètre de la fonction.\n    info('fonction f')\n    print('Bonjour',name)\n\nif __name__=='__main__': # lancement de 2 processus nommé p1 et p2\n    info('Bonjour depuis le main !')\n    p1=Process(target=f,name='Jean-Claude P',args=('Jean-Claude',))\n    p2=Process(target=f,name='Bernadette P',args=('Bernadette',))\n    p1.start()\n    p2.start()\n    p1.join()\n    p2.join()",
      "metadata": {
        "id": "JFiM-BH4suMt",
        "trusted": true
      },
      "outputs": [
        {
          "name": "stdout",
          "text": "Bonjour depuis le main !\nProcessus : MainProcess\nparent process : 1\nprocess id: 42\n************************************************************\n",
          "output_type": "stream"
        },
        {
          "ename": "<class 'OSError'>",
          "evalue": "[Errno 52] Function not implemented",
          "traceback": [
            "\u001b[0;31m---------------------------------------------------------------------------\u001b[0m",
            "\u001b[0;31mOSError\u001b[0m                                   Traceback (most recent call last)",
            "Cell \u001b[0;32mIn[1], line 21\u001b[0m\n\u001b[1;32m     19\u001b[0m p1\u001b[38;5;241m=\u001b[39mProcess(target\u001b[38;5;241m=\u001b[39mf,name\u001b[38;5;241m=\u001b[39m\u001b[38;5;124m'\u001b[39m\u001b[38;5;124mJean-Claude P\u001b[39m\u001b[38;5;124m'\u001b[39m,args\u001b[38;5;241m=\u001b[39m(\u001b[38;5;124m'\u001b[39m\u001b[38;5;124mJean-Claude\u001b[39m\u001b[38;5;124m'\u001b[39m,))\n\u001b[1;32m     20\u001b[0m p2\u001b[38;5;241m=\u001b[39mProcess(target\u001b[38;5;241m=\u001b[39mf,name\u001b[38;5;241m=\u001b[39m\u001b[38;5;124m'\u001b[39m\u001b[38;5;124mBernadette P\u001b[39m\u001b[38;5;124m'\u001b[39m,args\u001b[38;5;241m=\u001b[39m(\u001b[38;5;124m'\u001b[39m\u001b[38;5;124mBernadette\u001b[39m\u001b[38;5;124m'\u001b[39m,))\n\u001b[0;32m---> 21\u001b[0m \u001b[43mp1\u001b[49m\u001b[38;5;241;43m.\u001b[39;49m\u001b[43mstart\u001b[49m\u001b[43m(\u001b[49m\u001b[43m)\u001b[49m\n\u001b[1;32m     22\u001b[0m p2\u001b[38;5;241m.\u001b[39mstart()\n\u001b[1;32m     23\u001b[0m p1\u001b[38;5;241m.\u001b[39mjoin()\n",
            "File \u001b[0;32m/lib/python311.zip/multiprocessing/process.py:121\u001b[0m, in \u001b[0;36mBaseProcess.start\u001b[0;34m(self)\u001b[0m\n\u001b[1;32m    118\u001b[0m \u001b[38;5;28;01massert\u001b[39;00m \u001b[38;5;129;01mnot\u001b[39;00m _current_process\u001b[38;5;241m.\u001b[39m_config\u001b[38;5;241m.\u001b[39mget(\u001b[38;5;124m'\u001b[39m\u001b[38;5;124mdaemon\u001b[39m\u001b[38;5;124m'\u001b[39m), \\\n\u001b[1;32m    119\u001b[0m        \u001b[38;5;124m'\u001b[39m\u001b[38;5;124mdaemonic processes are not allowed to have children\u001b[39m\u001b[38;5;124m'\u001b[39m\n\u001b[1;32m    120\u001b[0m _cleanup()\n\u001b[0;32m--> 121\u001b[0m \u001b[38;5;28mself\u001b[39m\u001b[38;5;241m.\u001b[39m_popen \u001b[38;5;241m=\u001b[39m \u001b[38;5;28;43mself\u001b[39;49m\u001b[38;5;241;43m.\u001b[39;49m\u001b[43m_Popen\u001b[49m\u001b[43m(\u001b[49m\u001b[38;5;28;43mself\u001b[39;49m\u001b[43m)\u001b[49m\n\u001b[1;32m    122\u001b[0m \u001b[38;5;28mself\u001b[39m\u001b[38;5;241m.\u001b[39m_sentinel \u001b[38;5;241m=\u001b[39m \u001b[38;5;28mself\u001b[39m\u001b[38;5;241m.\u001b[39m_popen\u001b[38;5;241m.\u001b[39msentinel\n\u001b[1;32m    123\u001b[0m \u001b[38;5;66;03m# Avoid a refcycle if the target function holds an indirect\u001b[39;00m\n\u001b[1;32m    124\u001b[0m \u001b[38;5;66;03m# reference to the process object (see bpo-30775)\u001b[39;00m\n",
            "File \u001b[0;32m/lib/python311.zip/multiprocessing/context.py:224\u001b[0m, in \u001b[0;36mProcess._Popen\u001b[0;34m(process_obj)\u001b[0m\n\u001b[1;32m    222\u001b[0m \u001b[38;5;129m@staticmethod\u001b[39m\n\u001b[1;32m    223\u001b[0m \u001b[38;5;28;01mdef\u001b[39;00m \u001b[38;5;21m_Popen\u001b[39m(process_obj):\n\u001b[0;32m--> 224\u001b[0m     \u001b[38;5;28;01mreturn\u001b[39;00m \u001b[43m_default_context\u001b[49m\u001b[38;5;241;43m.\u001b[39;49m\u001b[43mget_context\u001b[49m\u001b[43m(\u001b[49m\u001b[43m)\u001b[49m\u001b[38;5;241;43m.\u001b[39;49m\u001b[43mProcess\u001b[49m\u001b[38;5;241;43m.\u001b[39;49m\u001b[43m_Popen\u001b[49m\u001b[43m(\u001b[49m\u001b[43mprocess_obj\u001b[49m\u001b[43m)\u001b[49m\n",
            "File \u001b[0;32m/lib/python311.zip/multiprocessing/context.py:281\u001b[0m, in \u001b[0;36mForkProcess._Popen\u001b[0;34m(process_obj)\u001b[0m\n\u001b[1;32m    278\u001b[0m \u001b[38;5;129m@staticmethod\u001b[39m\n\u001b[1;32m    279\u001b[0m \u001b[38;5;28;01mdef\u001b[39;00m \u001b[38;5;21m_Popen\u001b[39m(process_obj):\n\u001b[1;32m    280\u001b[0m     \u001b[38;5;28;01mfrom\u001b[39;00m \u001b[38;5;21;01m.\u001b[39;00m\u001b[38;5;21;01mpopen_fork\u001b[39;00m \u001b[38;5;28;01mimport\u001b[39;00m Popen\n\u001b[0;32m--> 281\u001b[0m     \u001b[38;5;28;01mreturn\u001b[39;00m \u001b[43mPopen\u001b[49m\u001b[43m(\u001b[49m\u001b[43mprocess_obj\u001b[49m\u001b[43m)\u001b[49m\n",
            "File \u001b[0;32m/lib/python311.zip/multiprocessing/popen_fork.py:19\u001b[0m, in \u001b[0;36mPopen.__init__\u001b[0;34m(self, process_obj)\u001b[0m\n\u001b[1;32m     17\u001b[0m \u001b[38;5;28mself\u001b[39m\u001b[38;5;241m.\u001b[39mreturncode \u001b[38;5;241m=\u001b[39m \u001b[38;5;28;01mNone\u001b[39;00m\n\u001b[1;32m     18\u001b[0m \u001b[38;5;28mself\u001b[39m\u001b[38;5;241m.\u001b[39mfinalizer \u001b[38;5;241m=\u001b[39m \u001b[38;5;28;01mNone\u001b[39;00m\n\u001b[0;32m---> 19\u001b[0m \u001b[38;5;28;43mself\u001b[39;49m\u001b[38;5;241;43m.\u001b[39;49m\u001b[43m_launch\u001b[49m\u001b[43m(\u001b[49m\u001b[43mprocess_obj\u001b[49m\u001b[43m)\u001b[49m\n",
            "File \u001b[0;32m/lib/python311.zip/multiprocessing/popen_fork.py:66\u001b[0m, in \u001b[0;36mPopen._launch\u001b[0;34m(self, process_obj)\u001b[0m\n\u001b[1;32m     64\u001b[0m parent_r, child_w \u001b[38;5;241m=\u001b[39m os\u001b[38;5;241m.\u001b[39mpipe()\n\u001b[1;32m     65\u001b[0m child_r, parent_w \u001b[38;5;241m=\u001b[39m os\u001b[38;5;241m.\u001b[39mpipe()\n\u001b[0;32m---> 66\u001b[0m \u001b[38;5;28mself\u001b[39m\u001b[38;5;241m.\u001b[39mpid \u001b[38;5;241m=\u001b[39m \u001b[43mos\u001b[49m\u001b[38;5;241;43m.\u001b[39;49m\u001b[43mfork\u001b[49m\u001b[43m(\u001b[49m\u001b[43m)\u001b[49m\n\u001b[1;32m     67\u001b[0m \u001b[38;5;28;01mif\u001b[39;00m \u001b[38;5;28mself\u001b[39m\u001b[38;5;241m.\u001b[39mpid \u001b[38;5;241m==\u001b[39m \u001b[38;5;241m0\u001b[39m:\n\u001b[1;32m     68\u001b[0m     \u001b[38;5;28;01mtry\u001b[39;00m:\n",
            "\u001b[0;31mOSError\u001b[0m: [Errno 52] Function not implemented"
          ],
          "output_type": "error"
        }
      ],
      "execution_count": 1
    },
    {
      "id": "Cx2_S1iessf0",
      "cell_type": "markdown",
      "source": "2.  Préciser en particulier le nombre de processus lancés, ce qu’ils affichent et les rôles des méthodes os.getppid et os.getpid().",
      "metadata": {
        "id": "Cx2_S1iessf0"
      }
    },
    {
      "id": "UNP4PwI2tKaq",
      "cell_type": "markdown",
      "source": "|     |\n|-----|\nVotre réponse:\n\nIl y a 2 processus lancés nommer P1 et P2\n\nle rôle des méthodes os.getppid et os.getpid sont : \n\ngetpid()  renvoie l’identifiant du processus appelant.\n\ngetppid() renvoie le PID du processus père de l’appelant.\n.\n---------\n<font color='green'>ici.....</font>",
      "metadata": {
        "id": "UNP4PwI2tKaq"
      }
    },
    {
      "id": "Us4LdyS2smMU",
      "cell_type": "markdown",
      "source": "3.  Explorer la bibliothèque multiprocessing de Python:\n\n[<u>https://docs.python.org/fr/3/library/multiprocessing.html</u>](https://docs.python.org/fr/3/library/multiprocessing.html)\n\nChercher dans la documentation\n\n-   La fonction permettant de créer un processus\n\n-   La fonction permettant d’afficher l’état d’un processus\n\n-   la fonction permettant d’afficher le nombre de processus disponibles.\n\n",
      "metadata": {
        "id": "Us4LdyS2smMU"
      }
    },
    {
      "id": "7S3-Sj-hvy0M",
      "cell_type": "code",
      "source": "# Ecrire votre code réponse (nom de la fonction avec exemple) ci-dessous\n- la fonction permettant de créer un processus est Process suivit de la méthode start",
      "metadata": {
        "id": "7S3-Sj-hvy0M"
      },
      "outputs": [],
      "execution_count": null
    },
    {
      "id": "NAKyFJZYtUMG",
      "cell_type": "markdown",
      "source": "4.  Lancer quelques processus en parallèle en utilisant un Pool du module multiprocessing.",
      "metadata": {
        "id": "NAKyFJZYtUMG"
      }
    },
    {
      "id": "NrHXsHI3tXe5",
      "cell_type": "code",
      "source": "tab=[(1,5),(2,4),(3,3),(4,2),(5,1)]\n\n\ndef test (nom,temps):\n    t=time.time()\n    print(\"debut du processus\",nom)\n    time.sleep(temps)\n    print(\"fin du processus\",nom,\"apres\",time.time()-t,\"secondes\")\n\ndef créer_processus(nom,temps):\n    p=Process('''à compléter''')\n    p.run()\n\nif __name__ == '__main__':\n    print(\"Chargement...\")\n    with Pool(processes=4) as p:\n        p.starmap(créer_processus(Baptiste,1000))",
      "metadata": {
        "id": "NrHXsHI3tXe5",
        "trusted": true
      },
      "outputs": [
        {
          "name": "stdout",
          "text": "Chargement...\n",
          "output_type": "stream"
        },
        {
          "ename": "<class 'TypeError'>",
          "evalue": "'str' object does not support the context manager protocol",
          "traceback": [
            "\u001b[0;31m---------------------------------------------------------------------------\u001b[0m",
            "\u001b[0;31mTypeError\u001b[0m                                 Traceback (most recent call last)",
            "Cell \u001b[0;32mIn[2], line 16\u001b[0m\n\u001b[1;32m     14\u001b[0m \u001b[38;5;28;01mif\u001b[39;00m \u001b[38;5;18m__name__\u001b[39m \u001b[38;5;241m==\u001b[39m \u001b[38;5;124m'\u001b[39m\u001b[38;5;124m__main__\u001b[39m\u001b[38;5;124m'\u001b[39m:\n\u001b[1;32m     15\u001b[0m     \u001b[38;5;28mprint\u001b[39m(\u001b[38;5;124m\"\u001b[39m\u001b[38;5;124mChargement...\u001b[39m\u001b[38;5;124m\"\u001b[39m)\n\u001b[0;32m---> 16\u001b[0m \u001b[43m    \u001b[49m\u001b[38;5;28;43;01mwith\u001b[39;49;00m\u001b[43m \u001b[49m\u001b[38;5;124;43m'''\u001b[39;49m\u001b[38;5;124;43mà compléter\u001b[39;49m\u001b[38;5;124;43m'''\u001b[39;49m\u001b[43m \u001b[49m\u001b[38;5;28;43;01mas\u001b[39;49;00m\u001b[43m \u001b[49m\u001b[43mp\u001b[49m\u001b[43m:\u001b[49m\n\u001b[1;32m     17\u001b[0m \u001b[43m        \u001b[49m\u001b[43mp\u001b[49m\u001b[38;5;241;43m.\u001b[39;49m\u001b[43mstarmap\u001b[49m\u001b[43m(\u001b[49m\u001b[38;5;124;43m'''\u001b[39;49m\u001b[38;5;124;43mà compléter\u001b[39;49m\u001b[38;5;124;43m'''\u001b[39;49m\u001b[43m)\u001b[49m\n",
            "\u001b[0;31mTypeError\u001b[0m: 'str' object does not support the context manager protocol"
          ],
          "output_type": "error"
        }
      ],
      "execution_count": 2
    },
    {
      "id": "N927Fe2rdfXY",
      "cell_type": "markdown",
      "source": "# Exercice 3: Pour aller plus loin\n\n\nÉcrire un script Bash proc.sh qui:\n\n• teste s’il y a un seul paramètre en entrée;\n\n• vérifie si ce paramètre est un nom d’utilisateur;\n\n• crée un fichier de même nom que l’utilisateur contenant la liste de\nses processus actif;\n\n• affiche le nombre de processus actifs correspondants s’il y en a;\n\n• traite les cas d’erreurs éventuelles.\n\nJoindre le fichier à votre rendu!\n\nPour plus d’informations:\n\n[<u>https://fr.wikipedia.org/wiki/Bourne-Again_shell</u>](https://fr.wikipedia.org/wiki/Bourne-Again_shell)\n\n[<u>https://doc.ubuntu-fr.org/tutoriel/script_shell</u>](https://doc.ubuntu-fr.org/tutoriel/script_shell)",
      "metadata": {
        "id": "N927Fe2rdfXY"
      }
    },
    {
      "id": "4YVAxyVwfCAt",
      "cell_type": "markdown",
      "source": "Resources:\n\n-   Image: https://datascientest.com/bash-tout-savoir\n\n-   Edition Hatier NSI spécialité\n\n-   https://fr.wikipedia.org/wiki/Processus\\_(informatique)",
      "metadata": {
        "id": "4YVAxyVwfCAt"
      }
    },
    {
      "id": "mBMcok2KfH_b",
      "cell_type": "markdown",
      "source": "|<span style='color:Blue'> E.S |  | |   | |     |<span style='color:Blue'> NSI Première & Terminale | |   | ||<span style='color:Blue'> Lycée Ozanam (Lille)\n| --- | --- |--- |--- |--- |--- | --- | --- |--- |--- | --- | --- |",
      "metadata": {
        "id": "mBMcok2KfH_b"
      }
    }
  ]
}