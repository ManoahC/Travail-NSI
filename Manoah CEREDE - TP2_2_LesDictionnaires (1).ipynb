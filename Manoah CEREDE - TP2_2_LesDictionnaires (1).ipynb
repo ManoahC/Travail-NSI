{
  "metadata": {
    "colab": {
      "name": "TP2_2_LesDictionnaires.ipynb",
      "provenance": []
    },
    "kernelspec": {
      "name": "python",
      "display_name": "Python (Pyodide)",
      "language": "python"
    },
    "language_info": {
      "codemirror_mode": {
        "name": "python",
        "version": 3
      },
      "file_extension": ".py",
      "mimetype": "text/x-python",
      "name": "python",
      "nbconvert_exporter": "python",
      "pygments_lexer": "ipython3",
      "version": "3.8"
    }
  },
  "nbformat_minor": 4,
  "nbformat": 4,
  "cells": [
    {
      "cell_type": "markdown",
      "source": "# 1A.1 - Dictionnaires,code de Vigenère\n\nLe dictionnaire est une structure de données très utilisée. Elle est illustrée pour un problème de décryptage.",
      "metadata": {
        "id": "YU_O8pz0SANi"
      }
    },
    {
      "cell_type": "markdown",
      "source": "### Rappel sur les dictionnaires",
      "metadata": {
        "id": "_l8b_1WeSANv"
      }
    },
    {
      "cell_type": "markdown",
      "source": "#### clé - valeur",
      "metadata": {
        "id": "-SygzZtoSANv"
      }
    },
    {
      "cell_type": "markdown",
      "source": "Une **liste** est un ensemble d'autres objets indexés par des entiers. Un **dictionnaire** est un ensemble d'autres objets indexés par presque n'importe quel structure ou objet.",
      "metadata": {
        "id": "j4Vv1GBaSANv"
      }
    },
    {
      "cell_type": "code",
      "source": "d = { }   # un dictionnaire vide\nd = { 'a' : 'acronym', 'b': 'bizarre' }  # un dictionnaire qui associe 'acroym' à 'a' et 'bizarre' à 'b'.\nz = d ['a']   # z reçoit la valeur associée à 'a' et stockée dans le dictionnaire d",
      "metadata": {
        "collapsed": true,
        "id": "NXvxDskJSANv",
        "jupyter": {
          "outputs_hidden": true
        }
      },
      "execution_count": null,
      "outputs": []
    },
    {
      "cell_type": "markdown",
      "source": "Quelques fonctions utiles :",
      "metadata": {
        "id": "Y0OR52QZSANv"
      }
    },
    {
      "cell_type": "code",
      "source": "d = { 'a' : 'acronym', 'b': 'bizarre' }  \nl = len(d)    # retourne le nombre d'élément de d\nb = 'a' in d  # b vaut True si une valeur est associée à 'a', on dit aussi que la clé 'a' est présente \nx = d.get ('a', '')  # x vaut d['a'] si la clé 'a' existe, il vaut '' sinon \n\n\"d=\",d,\"l=\",l,\"b=\",b,\"x=\",x",
      "metadata": {
        "id": "R7u49gnJSANw",
        "outputId": "f9116547-eca3-4a0a-ad60-b1ab080da6c0"
      },
      "execution_count": null,
      "outputs": [
        {
          "execution_count": 15,
          "output_type": "execute_result",
          "data": {
            "text/plain": [
              "('d=', {'a': 'acronym', 'b': 'bizarre'}, 'l=', 2, 'b=', True, 'x=', 'acronym')"
            ]
          },
          "metadata": {}
        }
      ]
    },
    {
      "cell_type": "markdown",
      "source": "On utilise souvent un dictionnaire pour compter les lettres d'un texte :",
      "metadata": {
        "id": "8EDKVwufSANw"
      }
    },
    {
      "cell_type": "code",
      "source": "texte = \"exemple de texte\"\nd = { }\nfor c in texte :\n    d[c] = d.get(c,0) + 1\n\nd",
      "metadata": {
        "colab": {
          "base_uri": "https://localhost:8080/"
        },
        "id": "HUoZu6qoSANw",
        "outputId": "f3bd83c0-1f52-4011-c491-2f3b7b3d82b8"
      },
      "execution_count": null,
      "outputs": [
        {
          "output_type": "execute_result",
          "execution_count": 2,
          "data": {
            "text/plain": [
              "{' ': 2, 'd': 1, 'e': 6, 'l': 1, 'm': 1, 'p': 1, 't': 2, 'x': 2}"
            ]
          },
          "metadata": {}
        }
      ]
    },
    {
      "cell_type": "markdown",
      "source": "Les valeurs peuvent être n'importe quoi, y compris des listes ou des dictionnaires. Les clés doivent être des types immuables (nombre, chaînes de caractères, ``tuple`` incluant des types immuables). Si vous utilisez un autre type, cela déclenche une erreur : ",
      "metadata": {
        "id": "0DW-9edaSANx"
      }
    },
    {
      "cell_type": "code",
      "source": "f = [3,4]\nd[f] = 0        # déclenche une exception",
      "metadata": {
        "colab": {
          "base_uri": "https://localhost:8080/",
          "height": 181
        },
        "id": "DaVZznKbSANx",
        "outputId": "51fad17c-e991-424f-9da4-db133236237c"
      },
      "execution_count": null,
      "outputs": [
        {
          "output_type": "error",
          "ename": "NameError",
          "evalue": "ignored",
          "traceback": [
            "\u001b[0;31m---------------------------------------------------------------------------\u001b[0m",
            "\u001b[0;31mNameError\u001b[0m                                 Traceback (most recent call last)",
            "\u001b[0;32m<ipython-input-1-936897043843>\u001b[0m in \u001b[0;36m<module>\u001b[0;34m()\u001b[0m\n\u001b[1;32m      1\u001b[0m \u001b[0mf\u001b[0m \u001b[0;34m=\u001b[0m \u001b[0;34m[\u001b[0m\u001b[0;36m3\u001b[0m\u001b[0;34m,\u001b[0m\u001b[0;36m4\u001b[0m\u001b[0;34m]\u001b[0m\u001b[0;34m\u001b[0m\u001b[0;34m\u001b[0m\u001b[0m\n\u001b[0;32m----> 2\u001b[0;31m \u001b[0md\u001b[0m\u001b[0;34m[\u001b[0m\u001b[0mf\u001b[0m\u001b[0;34m]\u001b[0m \u001b[0;34m=\u001b[0m \u001b[0;36m0\u001b[0m        \u001b[0;31m# déclenche une exception\u001b[0m\u001b[0;34m\u001b[0m\u001b[0;34m\u001b[0m\u001b[0m\n\u001b[0m",
            "\u001b[0;31mNameError\u001b[0m: name 'd' is not defined"
          ]
        }
      ]
    },
    {
      "cell_type": "markdown",
      "source": "Lorsqu'on affecte une valeur à une clé, le dictionnaire crée la clé ou remplace la valeur précédente par la nouvelle :",
      "metadata": {
        "id": "GmFSSjAjSANx"
      }
    },
    {
      "cell_type": "code",
      "source": "d = { }\nd['a'] = 0   # création d'une clé\nd['a'] = 1   # remplacement d'une valeur\n\nd",
      "metadata": {
        "id": "03YSOBNcSANx",
        "outputId": "40ed32c6-d086-4571-e17a-7c19550b7c91"
      },
      "execution_count": null,
      "outputs": [
        {
          "execution_count": 18,
          "output_type": "execute_result",
          "data": {
            "text/plain": [
              "{'a': 1}"
            ]
          },
          "metadata": {}
        }
      ]
    },
    {
      "cell_type": "markdown",
      "source": "On peut aussi créer un dictionnaire de façon compacte :",
      "metadata": {
        "id": "pJ0b6lfiSANx"
      }
    },
    {
      "cell_type": "code",
      "source": "d = { s:len(s) for s in ['un', 'deux', 'trois'] }\nd",
      "metadata": {
        "id": "fYdXCz_rSANy",
        "outputId": "7dd5bff9-f564-4714-e50d-66ea9a7ded90"
      },
      "execution_count": null,
      "outputs": [
        {
          "execution_count": 19,
          "output_type": "execute_result",
          "data": {
            "text/plain": [
              "{'un': 2, 'trois': 5, 'deux': 4}"
            ]
          },
          "metadata": {}
        }
      ]
    },
    {
      "cell_type": "markdown",
      "source": "#### notions de coût\n\nIl est aussi rapide d'accéder à un élément d'un dictionnaire que d'accéder à un élément d'une liste : [TimeComplexity](https://wiki.python.org/moin/TimeComplexity). C'est une [table de hashage](https://fr.wikipedia.org/wiki/Table_de_hachage) qui permet d'obtenir ce résultat.",
      "metadata": {
        "id": "Gk2_UofySANy"
      }
    },
    {
      "cell_type": "markdown",
      "source": "#### ordonner les éléments d'un dictionnaire\n\nLes éléments d'un dictionnaire ne sont pas ordonnées ou tout du moins ne le sont pas d'une façon prédictible. Pour les parcourir dans un ordre précis, il faut utiliser une liste puis les ordonner. L'exemple suivant montre comment ordonner les éléments par ordre croissant de valeur, puis par ordre alphabétique en cas d'ex aeco.",
      "metadata": {
        "id": "WaRy3_46SANy"
      }
    },
    {
      "cell_type": "code",
      "source": "d = { s:len(s) for s in ['un', 'deux', 'trois', 'quatre', 'cinq'] }\nd",
      "metadata": {
        "id": "iA0MchZvSANy",
        "outputId": "e316e3a9-633d-44e4-c7b9-d238925b36da"
      },
      "execution_count": null,
      "outputs": [
        {
          "execution_count": 20,
          "output_type": "execute_result",
          "data": {
            "text/plain": [
              "{'cinq': 4, 'deux': 4, 'quatre': 6, 'trois': 5, 'un': 2}"
            ]
          },
          "metadata": {}
        }
      ]
    },
    {
      "cell_type": "code",
      "source": "ordonne = [ (v,k) for k,v in d.items()]\nordonne",
      "metadata": {
        "id": "YIzn-Q8_SANz",
        "outputId": "8ed475e5-2f84-41eb-add6-ade8f81bf278"
      },
      "execution_count": null,
      "outputs": [
        {
          "execution_count": 21,
          "output_type": "execute_result",
          "data": {
            "text/plain": [
              "[(4, 'cinq'), (5, 'trois'), (4, 'deux'), (6, 'quatre'), (2, 'un')]"
            ]
          },
          "metadata": {}
        }
      ]
    },
    {
      "cell_type": "code",
      "source": "ordonne.sort()\nordonne",
      "metadata": {
        "id": "tN0isapkSANz",
        "outputId": "fcf734b7-c38d-414a-c248-f3593adf8ae5"
      },
      "execution_count": null,
      "outputs": [
        {
          "execution_count": 22,
          "output_type": "execute_result",
          "data": {
            "text/plain": [
              "[(2, 'un'), (4, 'cinq'), (4, 'deux'), (5, 'trois'), (6, 'quatre')]"
            ]
          },
          "metadata": {}
        }
      ]
    },
    {
      "cell_type": "markdown",
      "source": "**A quoi ça sert ?** on se sert beaucoup des dictionnaires pour compter la fréquences des caractères, des mots ou de couples de mots dans un texte. On les ordonne ensuite par fréquences décroissantes pour obtenir les mots ou caractères les plus fréquents.",
      "metadata": {
        "id": "eeK--KiqSANz"
      }
    },
    {
      "cell_type": "markdown",
      "source": "### Exercice 1 : recherche dans une liste\n\nOn considère une liste de mots :",
      "metadata": {
        "id": "v4H8iorTSAN0"
      }
    },
    {
      "cell_type": "code",
      "source": "mots = ['eddard', 'catelyn', 'robb', 'sansa', 'arya', 'brandon',\n        'rickon', 'theon', 'rorbert', 'cersei', 'tywin', 'jaime',\n        'tyrion', 'shae', 'bronn', 'lancel', 'joffrey', 'sandor',\n        'varys', 'renly', 'a' ]",
      "metadata": {
        "collapsed": true,
        "id": "_S-UnwCTSAN0",
        "jupyter": {
          "outputs_hidden": true
        }
      },
      "execution_count": null,
      "outputs": []
    },
    {
      "cell_type": "markdown",
      "source": "Il faut écrire une fonction qui retourne tous les mots de la liste qui ont un 'y' en seconde position.",
      "metadata": {
        "id": "DWOtJgRRSAN0"
      }
    },
    {
      "cell_type": "code",
      "source": "def mots_lettre_position (liste, lettre, position) :\n    l = []\n    for i in liste:\n        if i[position] == lettre:\n            l.append(i)\n    return l\nprint(mots_lettre_position (['eddard', 'catelyn', 'robb', 'sansa', 'arya', 'brandon','rickon', 'theon', 'rorbert', 'cersei', 'tywin', 'jaime','tyrion', 'shae', 'bronn', 'lancel', 'joffrey', 'sandor','varys', 'renly'], \"y\", 1))",
      "metadata": {
        "id": "n6Hjl1FmSAN0",
        "tags": [],
        "trusted": true
      },
      "execution_count": 5,
      "outputs": [
        {
          "name": "stdout",
          "text": "['tywin', 'tyrion']\n",
          "output_type": "stream"
        }
      ]
    },
    {
      "cell_type": "markdown",
      "source": "### Exercice 2 : utilisation d'un dictionnaire\n\nOn modifie la fonction précédente ``mots_lettre_position`` de telle sorte qu'elle s'écrive comme suit :",
      "metadata": {
        "id": "20Rl-Hc3SAN0"
      }
    },
    {
      "cell_type": "code",
      "source": "def dictionnaire_position (dictionnaire_bien_choisi, lettre, position) :\n    l = []\n    for i in dictionnaire_bien_choisi.keys():\n        if i[position] == lettre:\n            l.append(i)\n    return l\nprint(dictionnaire_position({\"chien\":1,\"chat\":1,\"elephant\":1},\"c\",0))",
      "metadata": {
        "id": "p-j7cHUmSAN1",
        "tags": [],
        "trusted": true
      },
      "execution_count": 8,
      "outputs": [
        {
          "name": "stdout",
          "text": "['chien', 'chat']\n",
          "output_type": "stream"
        }
      ]
    },
    {
      "cell_type": "markdown",
      "source": "Construisez le dictionnaire ``dictionnaire_bien_choisi`` pour que cela fonctionne.\nCombien de mots sont stockés dans ``dictionnaire_bien_choisi`` ?",
      "metadata": {
        "id": "xPftmi4dSAN1"
      }
    },
    {
      "cell_type": "markdown",
      "source": "Lorsqu'on cherche un mot dans un dictionnaire (un vrai), on tourne peu de pages pour le trouver puisqu'ils sont triés par ordre alphabétique. Maintenant, si on souhaite trouver tous les mots dans la seconde lettre est ``e``, c'est impossible à moins de trier les mots par leur seconde lettre : il faudrait un dictionnaire différent pour chaque position de lettre. \n\nL'objectif de cet exercice est de concevoir une sorte de dictionnaire qui permette de retrouver tous les mots ayant telle lettre à telle position.",
      "metadata": {
        "id": "H2wHL97ESAN1"
      }
    },
    {
      "cell_type": "markdown",
      "source": "### Exercice 3 : crypter de décrypter selon Vigenère\n\nLe [code de César](http://fr.wikipedia.org/wiki/Chiffrement_par_d%C3%A9calage) est une permutation de lettre ou un décalage. Toutes les lettres du message sont décalées d'un nombre fixe :\n\n- ``JENESUISPASCODE``\n- ``MHQHVXLVSDVFRGH``\n\nLe [code de Vigenère](http://fr.wikipedia.org/wiki/Chiffre_de_Vigen%C3%A8re) introduit un décalage qui dépend de la position de la lettre dans le message à coder. On choisit d'abord un mot qui servira de code (par exemple ``DOP``) puis on le traduit en décalages : ``[3, 14, 15]`` en servant de la position des lettres dans l'alphabet. \n\nPour coder, on décale la première lettre de 3, la seconde de 14, la troisième 15, la quatrième de 3 à nouveau... L'objectif de cette partie est d'écrire une fonction qui crypte le message précédent et une autre qui décrypte.",
      "metadata": {
        "id": "7DVQq7ZYSAN1"
      }
    },
    {
      "cell_type": "code",
      "source": "def code_vigenere ( message, cle) :\n    alphabet1 = {\"a\":1,\"b\":2,\"c\":3,\"d\":4,\"e\":5,\"f\":6,\"g\":7,\"h\":8,\"i\":9,\"j\":10,\"k\":11,\"l\":12,\"m\":13,\"n\":14,\"o\":15,\"p\":16,\"q\":17,\"r\":18,\"s\":19,\"t\":20,\"u\":21,\"v\":22,\"w\":23,\"x\":24,\"y\":25,\"z\":26}\n    alphabet2 = [\"a\",\"b\",\"c\",\"d\",\"e\",\"f\",\"g\",\"h\",\"i\",\"j\",\"k\",\"l\",\"m\",\"n\",\"o\",\"p\",\"q\",\"r\",\"s\",\"t\",\"u\",\"v\",\"w\",\"x\",\"y\",\"z\"]\n    l = []\n    for i in range(len(mot)):\n        i = message[i]\n        l.append(i)\n    for i in range(len(l)):\n        l[i] = alphabet1[l[i]]\n        l[i] = l[i]+cle[i]\n    for i in range(len(l)):\n        b = l[i]-1\n        l[i] = alphabet2[b]\n    return(l)\ncode_vigenere(\"chiens\",[5,16,3,6,8,4])",
      "metadata": {
        "id": "Wsjo1-DnSAN1",
        "tags": [],
        "trusted": true
      },
      "execution_count": 21,
      "outputs": [
        {
          "execution_count": 21,
          "output_type": "execute_result",
          "data": {
            "text/plain": "['h', 'x', 'l', 'k', 'v', 'w']"
          },
          "metadata": {}
        }
      ]
    },
    {
      "cell_type": "markdown",
      "source": "A quelle condition le code de Vigenère est un simple code de César ?\n\nSeulement lorsque l'on demande de décaler toutes les lettres du même intervale\n\nPensez-vous qu'il soit possible de casser le code de Vigenère (de le décrypter sans la clé) ?",
      "metadata": {
        "id": "Adf8gmTNSAN2"
      }
    },
    {
      "cell_type": "code",
      "source": "Je ne pense pas, puisque sans la clé, on ne sait pas de combien de fois on doit décaler les lettres du messages.",
      "metadata": {
        "collapsed": true,
        "id": "9RYK7QWoSAN2",
        "jupyter": {
          "outputs_hidden": true
        }
      },
      "execution_count": null,
      "outputs": []
    }
  ]
}