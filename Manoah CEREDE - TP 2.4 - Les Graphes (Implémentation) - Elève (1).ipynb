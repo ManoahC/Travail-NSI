{
  "metadata": {
    "kernelspec": {
      "name": "python",
      "display_name": "Python (Pyodide)",
      "language": "python"
    },
    "language_info": {
      "codemirror_mode": {
        "name": "python",
        "version": 3
      },
      "file_extension": ".py",
      "mimetype": "text/x-python",
      "name": "python",
      "nbconvert_exporter": "python",
      "pygments_lexer": "ipython3",
      "version": "3.8"
    }
  },
  "nbformat_minor": 5,
  "nbformat": 4,
  "cells": [
    {
      "id": "1443e017",
      "cell_type": "markdown",
      "source": "---",
      "metadata": {}
    },
    {
      "id": "d15d6e61",
      "cell_type": "markdown",
      "source": "<img src=\"https://github.com/Lionel-Helin-Oza/Images_Notebook/blob/main/NSI-Image.png?raw=true\" alt=\"drawing\" width=\"350\">",
      "metadata": {}
    },
    {
      "id": "aff477f4",
      "cell_type": "markdown",
      "source": "# TP2.4 - Les Graphes - Implémentation des graphes\n\nDurée de l'activité proposé : 4h",
      "metadata": {}
    },
    {
      "id": "d3651f9a",
      "cell_type": "markdown",
      "source": "<img src=\"https://github.com/Lionel-Helin-Oza/TP2.4-Les_Graphes/blob/main/graphe_garde.png?raw=true\" width=\"350\">",
      "metadata": {}
    },
    {
      "id": "5032505f",
      "cell_type": "markdown",
      "source": "---",
      "metadata": {}
    },
    {
      "id": "746a3eef",
      "cell_type": "markdown",
      "source": "\n## <span style='color:Red'> Partie 1 : Rappels de Cours\n",
      "metadata": {}
    },
    {
      "id": "9f2c3b8b",
      "cell_type": "markdown",
      "source": "---",
      "metadata": {}
    },
    {
      "id": "57a1ad2c",
      "cell_type": "markdown",
      "source": "## <span style='color:Blue'> *1.\tQu'est-ce qu'un Graphe en Informatique?*   \n\n\nUn **graphe** est une structure de données pouvant représenter des situations très diverses : réseaux d'autoroutes, planning de succession de tâches, machine à états, etc.\n\nElle s’enrichit quand on attribue aux sommets/nœuds ou aux arcs/arêtes une valeur , c'est-à-dire un nombre représentant une information en relation avec l' utilisation du graphe, Comme une longueur, une capacité de transport, un débit, etc.\n\nDans ce TP, et pour essayer d’étudier les graphes nous allons répondre aux problématiques suivantes.\n1.  Comment représenter un graphe ?\n2.  Comment parcourir un graphe? Les algorithmes de parcours\n3.  Calcul du chemin le plus court ....\n\n\n\n",
      "metadata": {}
    },
    {
      "id": "1a0e8bd3",
      "cell_type": "markdown",
      "source": "## <span style='color:Blue'> *2.\tComment représenter un Graphe?*   \n    \nOn distingue les:\n    \n*   **Les graphes orientés**  : les sommets sont reliés par des arcs ou des flèches.\n    \n*   **Les graphes non orientés**  : les sommets sont reliés par des arêtes. Cette distinction n'est pas fondamentale.\n    \nTout algorithme applicable à un graphes non-orienté peut aussi être appliqué à un graphe orienté (des sommets reliés par des arcs ou des flèches ).\n    \nTout graphe non orienté est  équivalent à un  graphe orienté  (il suffit de remplacer chaque arête par deux arc).\n\n    \n***Remarque :*** certaines définitions varient suivant les ressources. En général, ces variations sont minimes.\n",
      "metadata": {}
    },
    {
      "id": "48098c62",
      "cell_type": "markdown",
      "source": "## <span style='color:Blue'> *3.\tMathématiquement*   ",
      "metadata": {}
    },
    {
      "id": "7b3138e9",
      "cell_type": "markdown",
      "source": "\nFormellement, un graphe est un couple G=(S,A) où S est l' ensemble des sommets et A ⊂ SxS est l' ensemble des arcs ou des arêtes .\n\nDans le cas d’un graphe orienté , chaque couple (x,y) ∈ A  représente un  arc .\n\nLa première composante x du couple est la source  (ou l' origine ) de l' arc .\n\nLa seconde composante y en est le but  (ou la destination ).\n\nDans le cas d'un graphe non orienté , chaque couple (x,y) ∈ A  représente une  arête d'extrémités x et y . Dans ce cas, les couples  (x,y)   et  (y,x) désignent la même arête .\n\nCi-dessous un exemple de graphe (Image1) :",
      "metadata": {}
    },
    {
      "id": "55365443",
      "cell_type": "markdown",
      "source": "<img src=\"https://github.com/Lionel-Helin-Oza/TP2.4-Les_Graphes/blob/main/graphe_oriente.png?raw=true\" width=\"450\">",
      "metadata": {}
    },
    {
      "id": "b6753a06",
      "cell_type": "markdown",
      "source": "## <span style='color:Blue'> *4. Représentations d'un Graphe* ",
      "metadata": {}
    },
    {
      "id": "4a06f932",
      "cell_type": "markdown",
      "source": "> **1.\t    La représentation Sagittale  :**\n\nElle s'obtient en dessinant le graphe (voir figure ci-dessus)\n\n> **2.\t  La représentation par matrice d'adjacences (voir 4.1)  :**\n\nDeux sommets x et y sont dits adjacents s'il existe un arc de x vers y ou de y vers x . Ou s'il existe une arête entre x et y dans le cas de graphe non-orienté.\n\nCette représentation du graphe est faite en utilisant un tableau de tableaux. \n\n> **3.\t  La représentation par liste d'adjacences (voir 4.2) :**\n\nNous utiliserons dans ce cas un dictionnaire, dont les clefs sont les nœuds du graphe, et les valeurs les nœuds adjacents de chaque nœud.  \n",
      "metadata": {}
    },
    {
      "id": "2a119661",
      "cell_type": "markdown",
      "source": "### <span style='color:Blue'> *4.1 - La matrice d'adjacence*",
      "metadata": {}
    },
    {
      "id": "60bdc8b4",
      "cell_type": "markdown",
      "source": "La matrice d'adjacence est une matrice B de taille n * n  indicée par les sommets.\n\n- Par convention B[j,k] vaut 1 si l'arc (x[j],x[k]) ∈ A et 0 sinon.\n\n- Si le graphe est valué on met des poids plutôt que des 1.\n\n- Dans le cas des graphes non orientés, la matrice est symétrique.\n\nVoici la matrice d'adjacence du graphe G de l'exemple précédent: \n",
      "metadata": {}
    },
    {
      "id": "cbcab794",
      "cell_type": "markdown",
      "source": "<img src=\"https://github.com/Lionel-Helin-Oza/TP2.4-Les_Graphes/blob/main/mat_adj.png?raw=true\" width=\"450\">",
      "metadata": {}
    },
    {
      "id": "33998621",
      "cell_type": "markdown",
      "source": "### Représentation de la matrice d'adjacence:\n\nVoici en Python comment déclarer une matrice , c'est -à-dire un tableau à 2 dimensions  (Tableau de tableaux). En python, on pourra écrire :",
      "metadata": {}
    },
    {
      "id": "74f5c6de",
      "cell_type": "code",
      "source": "G = [\n     [ 0, 1, 0, 0, 0, 0 ],\n     [ 0, 1, 1, 1, 0, 0 ],\n     [ 1, 0, 0, 0, 0, 0 ],\n     [ 0, 0, 0, 0, 0, 0 ],\n     [ 0, 0, 0, 0, 0, 0 ],\n     [ 0, 0, 0, 0, 1, 0 ]\n   ]\n",
      "metadata": {},
      "outputs": [],
      "execution_count": 1
    },
    {
      "id": "19e00393",
      "cell_type": "markdown",
      "source": "### <span style='color:Blue'> *4.2 - Représentation d'un graphe par un dictionnaire*",
      "metadata": {}
    },
    {
      "id": "047bfcba",
      "cell_type": "markdown",
      "source": "**a. Représentation des graphes et rappels sur les dictionnaires**",
      "metadata": {}
    },
    {
      "id": "cc840fa7",
      "cell_type": "markdown",
      "source": "Il est possible de représenter les graphes par des dictionnaires. Cette implémentation peut être exploitée pour un graphe orienté ainsi qu'un graphe non orienté .\nReprenons notre graphe G – il est important de préciser que ce graphe est orienté ! . \n\nIl est possible de le représenter ainsi:\n",
      "metadata": {}
    },
    {
      "id": "0df0f301",
      "cell_type": "code",
      "source": "G = {\n     \"A\" : [\"B\"],\n     \"B\" : [\"B\", \"D\", \"C\"],\n     \"C\" : [\"A\"],\n     \"D\" : [],\n     \"E\" : [],\n     \"F\" : [\"E\"]\n      }",
      "metadata": {},
      "outputs": [],
      "execution_count": 2
    },
    {
      "id": "6022eeb8",
      "cell_type": "markdown",
      "source": "\n> Les clés du dictionnaire ci-dessus sont les sommets de G . Les valeurs correspondantes sont des tableaux avec les sommets , qui se connectent par une arête .\n\n> Une arête peut être vue comme un couple de sommets comme  (\"A\",\"B\") .\n\nCi-dessous un rappel des fonctions exploitables avec les dictionnaires et leurs exécutions sur le graphe G :\nIl faut bien sûr au préalable avoir déjà déclaré le dictionnaire G donc exécuté la première instruction ci-dessus.\n",
      "metadata": {}
    },
    {
      "id": "14295c91",
      "cell_type": "code",
      "source": "print(G.keys())         # affiche les cles\nprint(G.values())       # affiche les valeurs\nprint(len(G))           # affiche le nombre de clés\nprint(G['B'])           # affiche la valeur de la clés\n",
      "metadata": {},
      "outputs": [
        {
          "name": "stdout",
          "output_type": "stream",
          "text": [
            "dict_keys(['A', 'B', 'C', 'D', 'E', 'F'])\n",
            "dict_values([['B'], ['B', 'D', 'C'], ['A'], [], [], ['E']])\n",
            "6\n",
            "['B', 'D', 'C']\n"
          ]
        }
      ],
      "execution_count": 3
    },
    {
      "id": "2046ad09",
      "cell_type": "markdown",
      "source": "**Pour revoir des notions sur les dictionnaires, tuple()  vous pouvez visiter le  lien  suivant: https://openclassrooms.com/fr/courses/235344-apprenez-a-programmer-en-python/232273-utilisez-des-dictionnaires**",
      "metadata": {}
    },
    {
      "id": "cfe70aec",
      "cell_type": "markdown",
      "source": "**b. Implémentation d'une classe Graphe en utilisant les dictionnaires**",
      "metadata": {}
    },
    {
      "id": "0cd09ee9",
      "cell_type": "markdown",
      "source": "Hé oui, il peut être intéressant de définir un objet « graphe », tout en utilisant les dictionnaires dans la  construction du graphe. \nPour commencer, il faut créer le constructeur de la classe Graphe qui prend en paramètre soit un dictionnaire rempli soit un dictionnaire vide . Ce constructeur permettra de créer un objet Graphe.\n",
      "metadata": {}
    },
    {
      "id": "611b61fe",
      "cell_type": "code",
      "source": "class Graphe:\n  def __init__(self, graph_dict = None):\n    \"\"\" Initialise un objet Graph\n        Si aucun graphe n'est donné en attribut, un dictionnaire vide est alors introduit\n    \"\"\"\n    if graph_dict == None: \n        graph_dict = {}\n    self.__graph_dict = graph_dict",
      "metadata": {},
      "outputs": [],
      "execution_count": 5
    },
    {
      "id": "61c8d096",
      "cell_type": "markdown",
      "source": "Nous ajouterons également 2 méthodes permettant d'accéder aux sommets et aux arêtes ( ci-après la classe complétée)",
      "metadata": {}
    },
    {
      "id": "b5d97b27",
      "cell_type": "code",
      "source": "class Graphe:\n  def __init__(self, graph_dict = None):\n    \"\"\" Initialise un objet Graph\n        Si aucun graphe n'est donné en attribut, un dictionnaire vide est alors introduit\n    \"\"\"\n    if graph_dict == None: graph_dict = {}\n    self.__graph_dict = graph_dict\n\n  def sommets(self):\n    #retourne les sommets du graphe\n    return list(self.__graph_dict.keys())\n\n  def aretes(self):\n    # retourne les aretes du graphe\n    return self.__generate_aretes()\n\n  def __generate_aretes(self):\n        ## Une méthode statique générant les arêtes du graphe\n        ##  Les arêtes sont représentées comme des ensembles\n        ## avec un (une boucle vers le sommet) ou deux sommets\n    aretes = []\n    for sommet in self.__graph_dict:\n        for voisin in self.__graph_dict[sommet]:\n            if (sommet, voisin) not in aretes:\n                aretes.append((sommet, voisin))\n    return aretes",
      "metadata": {},
      "outputs": [],
      "execution_count": 7
    },
    {
      "id": "5906a46b",
      "cell_type": "markdown",
      "source": "Pour avoir les arêtes du graphe, le getteur aretes() fait appel à la méthode  __generate_aretes() . \n\nC'est une \"façon de faire\" assez répandue en Programmation Orientée Objet . Nous nous efforçons de garder un getteur le plus simple possible pour faciliter la lisibilité du programme : si plusieurs lignes de code de \"traitement\" , nous les déplaçons dans une sous-fonction  (sous-méthode).",
      "metadata": {}
    },
    {
      "id": "d9776e92",
      "cell_type": "markdown",
      "source": "***Remarque*** : Un détail intéressant ici... Il est possible d’écrire la fonction __generate_aretes() en dehors de la classe Graphe . Python nous permet d'ajouter des fonctions (méthodes)  à une classe après sa déclaration ( utilisation de classmethod). ",
      "metadata": {}
    },
    {
      "id": "33a50168",
      "cell_type": "markdown",
      "source": "Pour que notre classe soit \"autonome\" , il serait nécessaire d'implémenter une fonction/ méthode pour ajouter un sommet et une pour ajouter une arête . Voici la classe complétée :",
      "metadata": {}
    },
    {
      "id": "24347103",
      "cell_type": "code",
      "source": "class Graphe:\n  def __init__(self, graph_dict = None):\n    \"\"\" Initialise un objet Graph\n        Si aucun graphe n'est donné en attribut, un dictionnaire vide est alors introduit\n    \"\"\"\n    if graph_dict == None: graph_dict = {}\n    self.__graph_dict = graph_dict\n\n  def sommets(self):\n    #retourne les sommets du graphe\n    return list(self.__graph_dict.keys())\n\n  def aretes(self):\n    # retourne les aretes du graphe\n    return self.__generate_aretes()\n\n  def ajoute_sommet(self, sommet):\n    # si le sommet sommet n'existe pas dans le graphe on le\n    # rajoute en tant que clé avec une liste valeurs vide sinon rien n'est fait.\n    if sommet not in self.__graph_dict:\n      self.__graph_dict[sommet] = []\n\n  def ajoute_arete(self, arete):\n    #Prend en compte une liste de sommets\n    # Arete est défini comme un tuple de 2 valeurs. Exemple ('A','B') est\n    # l'arete de A vers B\n\n    if len(arete) == 2:             # Dans le cas d'une arete non boucle :\n                                    #Si les deux noeuds de l'arete sont distints\n      (sommet1, sommet2) = tuple(arete)\n      if (sommet1 in self.__graph_dict):\n        self.__graph_dict[sommet1].append(sommet2)\n      else:\n        self.__graph_dict[sommet1] = [sommet2]\n    else:                               #Dans le cas d'une boucle\n      (sommet1,) = tuple(arete)\n      if (sommet1 in self.__graph_dict):\n        self.__graph_dict[sommet1].append(sommet1)\n      else:\n        self.__graph_dict[sommet1] = [sommet1]\n\n  def __generate_aretes(self):\n        ## Une méthode statique générant les arêtes du\n        ##  Les arêtes sont représentées comme des ensembles\n        ## avec un (une boucle vers le sommet) ou deux\n        ## sommets\n    aretes = []\n    for sommet in self.__graph_dict:\n        for voisin in self.__graph_dict[sommet]:\n            if (sommet, voisin) not in aretes:\n                aretes.append((sommet, voisin))\n    return aretes\n\n",
      "metadata": {},
      "outputs": [],
      "execution_count": 9
    },
    {
      "id": "1451db39",
      "cell_type": "markdown",
      "source": "---",
      "metadata": {}
    },
    {
      "id": "bda4d361",
      "cell_type": "markdown",
      "source": "\n## <span style='color:Red'> Partie 2 : Exercices",
      "metadata": {}
    },
    {
      "id": "f24e48bb",
      "cell_type": "markdown",
      "source": "A partir de cette définition, nous allons vous demander d'écrire certaine méthode ou fonction nous permettant de manipuler les graphes.\n\n**Pour chacun des exercices suivants, n'oubliez pas :**\n\n> Tout se qui peut aider à la compréhension d’un programme (commentaire) est le bienvenue.\n\n> Merci de laisser dans votre programme ce qui vous a permis de le tester et de le valider , même sous forme de commentaire (création des objets et test avec print par exemple)  ",
      "metadata": {}
    },
    {
      "id": "c8a38d5c",
      "cell_type": "markdown",
      "source": "---",
      "metadata": {}
    },
    {
      "id": "1ad3ad28",
      "cell_type": "markdown",
      "source": "### Exercice 1  (Définition de la classe Graphe) \n\n\nUtiliser le code ci-dessus de la classe Graphe pour:\n\n1.   A l’aide des méthodes données, construire l'objet Graphe G de la partie 3 (Image 1)\n",
      "metadata": {}
    },
    {
      "id": "07c404fa",
      "cell_type": "code",
      "source": "#Votre réponse ci-dessous :\n\nclass Graphe:\n  def __init__(self, graph_dict = None):\n    \"\"\" Initialise un objet Graph\n        Si aucun graphe n'est donné en attribut, un dictionnaire vide est alors introduit\n    \"\"\"\n    if graph_dict == None: graph_dict = {}\n    self.__graph_dict = graph_dict\n\n  def sommets(self):\n    #retourne les sommets du graphe\n    return list(self.__graph_dict.keys())\n\n  def aretes(self):\n    # retourne les aretes du graphe\n    return self.__generate_aretes()\n\n  def ajoute_sommet(self, sommet):\n    # si le sommet sommet n'existe pas dans le graphe on le\n    # rajoute en tant que clé avec une liste valeurs vide sinon rien n'est fait.\n    if sommet not in self.__graph_dict:\n      self.__graph_dict[sommet] = []\n\n  def ajoute_arete(self, arete):\n    #Prend en compte une liste de sommets\n    # Arete est défini comme un tuple de 2 valeurs. Exemple ('A','B') est\n    # l'arete de A vers B\n\n    if len(arete) == 2:             # Dans le cas d'une arete non boucle :\n                                    #Si les deux noeuds de l'arete sont distints\n      (sommet1, sommet2) = tuple(arete)\n      if (sommet1 in self.__graph_dict):\n        self.__graph_dict[sommet1].append(sommet2)\n      else:\n        self.__graph_dict[sommet1] = [sommet2]\n    else:                               #Dans le cas d'une boucle\n      (sommet1,) = tuple(arete)\n      if (sommet1 in self.__graph_dict):\n        self.__graph_dict[sommet1].append(sommet1)\n      else:\n        self.__graph_dict[sommet1] = [sommet1]\n\n  def __generate_aretes(self):\n        ## Une méthode statique générant les arêtes du\n        ##  Les arêtes sont représentées comme des ensembles\n        ## avec un (une boucle vers le sommet) ou deux\n        ## sommets\n    aretes = []\n    for sommet in self.__graph_dict:\n        for voisin in self.__graph_dict[sommet]:\n            if (sommet, voisin) not in aretes:\n                aretes.append((sommet, voisin))\n    return aretes\n\ngraphe = Graphe({\"A\" : [\"B\",\"C\" ,\"D\" ,\"E\" ,\"F\"],\"B\" : [\"A\", \"C\", \"D\", \"E\", \"F\"],\"C\" : [\"A\", \"B\", \"D\", \"E\", \"F\"],\"D\" : [\"A\", \"B\", \"C\", \"E\", \"F\"],\"E\" : [\"A\", \"B\", \"C\", \"D\", \"F\"],\"F\" : [\"A\", \"B\", \"C\", \"D\", \"E\"]})",
      "metadata": {
        "trusted": true
      },
      "outputs": [],
      "execution_count": 3
    },
    {
      "id": "f4a6a257",
      "cell_type": "markdown",
      "source": "2.   A l’aide des méthodes de classe, afficher ses sommets et ses arêtes. Que remarquez-vous? Proposer une solution.",
      "metadata": {}
    },
    {
      "id": "f43554b3",
      "cell_type": "code",
      "source": "#Votre réponse ci-dessous :\ngraphe.aretes(), graphe.sommets()\n\n# On remarque que toutes les arêtes s'affichent en colonne.",
      "metadata": {
        "trusted": true
      },
      "outputs": [
        {
          "execution_count": 7,
          "output_type": "execute_result",
          "data": {
            "text/plain": "([('A', 'B'),\n  ('A', 'C'),\n  ('A', 'D'),\n  ('A', 'E'),\n  ('A', 'F'),\n  ('B', 'A'),\n  ('B', 'C'),\n  ('B', 'D'),\n  ('B', 'E'),\n  ('B', 'F'),\n  ('C', 'A'),\n  ('C', 'B'),\n  ('C', 'D'),\n  ('C', 'E'),\n  ('C', 'F'),\n  ('D', 'A'),\n  ('D', 'B'),\n  ('D', 'C'),\n  ('D', 'E'),\n  ('D', 'F'),\n  ('E', 'A'),\n  ('E', 'B'),\n  ('E', 'C'),\n  ('E', 'D'),\n  ('E', 'F'),\n  ('F', 'A'),\n  ('F', 'B'),\n  ('F', 'C'),\n  ('F', 'D'),\n  ('F', 'E')],\n ['A', 'B', 'C', 'D', 'E', 'F'])"
          },
          "metadata": {}
        }
      ],
      "execution_count": 7
    },
    {
      "id": "a75ce2ee",
      "cell_type": "markdown",
      "source": "3.   Ajouter une arête (\"X\",\"Y\") et ajouter une arête entre \"B\" et \"E\".",
      "metadata": {}
    },
    {
      "id": "2a47a5ba",
      "cell_type": "code",
      "source": "#Votre réponse ci-dessous :\ngraphe.ajoute_arete('X''Y')\ngraphe.aretes()",
      "metadata": {
        "trusted": true
      },
      "outputs": [
        {
          "execution_count": 14,
          "output_type": "execute_result",
          "data": {
            "text/plain": "[('A', 'B'),\n ('A', 'C'),\n ('A', 'D'),\n ('A', 'E'),\n ('A', 'F'),\n ('B', 'A'),\n ('B', 'C'),\n ('B', 'D'),\n ('B', 'E'),\n ('B', 'F'),\n ('C', 'A'),\n ('C', 'B'),\n ('C', 'D'),\n ('C', 'E'),\n ('C', 'F'),\n ('D', 'A'),\n ('D', 'B'),\n ('D', 'C'),\n ('D', 'E'),\n ('D', 'F'),\n ('E', 'A'),\n ('E', 'B'),\n ('E', 'C'),\n ('E', 'D'),\n ('E', 'F'),\n ('F', 'A'),\n ('F', 'B'),\n ('F', 'C'),\n ('F', 'D'),\n ('F', 'E'),\n ('X', 'X'),\n ('X', 'Y')]"
          },
          "metadata": {}
        }
      ],
      "execution_count": 14
    },
    {
      "id": "34f975ed",
      "cell_type": "markdown",
      "source": "---",
      "metadata": {}
    },
    {
      "id": "9529444f",
      "cell_type": "markdown",
      "source": "### Exercice 2 (Affichage) \n\n\n**1.\tImplémenter une classe MonGraphe permettant de construire un graphe avec des listes (sans les dictionnaires).**\n\nLa classe sera définie par \n\n> un attribut sommet, tableau contenant les différents sommets\n\n#Exemple : ['A','B', 'C', 'D','E']\n\n> un attribut arete, tableau contenant les sommets en provenance de chaque sommet  sommet \n\n#Exemple : [['B', 'C', 'D'], ['A', 'C'], ['B', 'E'],[ ],[ ]]\n\n+ A partir de ‘A’, il y a une arête vers 'B', 'C', 'D'\n\n+ A partir de ‘B’, il y a une arête vers 'A', 'C'\n\n+ A partir de ‘C’, il y a une arête vers 'B', 'E'\n\n+ A partir de ‘D’ et ‘E’, il n’y a pas d’arête\n\n\n\n**2.\tEcrire une méthode de la classe MonGraphe  ajoute_sommet**\n\n**3.\tEcrire une méthode de la classe MonGraphe  ajoute_arete**\n",
      "metadata": {}
    },
    {
      "id": "f27a2db0",
      "cell_type": "code",
      "source": "#Votre réponse ci-dessous :\n\n\n\n",
      "metadata": {},
      "outputs": [],
      "execution_count": null
    },
    {
      "id": "e68c6656",
      "cell_type": "markdown",
      "source": "---",
      "metadata": {}
    },
    {
      "id": "833e755f",
      "cell_type": "markdown",
      "source": "### Exercice 3  (Matrice d'adjacence)",
      "metadata": {}
    },
    {
      "id": "a92a575b",
      "cell_type": "markdown",
      "source": "\n1.\tÉcrire une méthode affiche_matrice de votre classe MonGraphe qui permet d’afficher la matrice d'adjacence du graphe.\nOn pourra utiliser les méthodes définies à l’exercice 2 :\n",
      "metadata": {}
    },
    {
      "id": "c9d371ed",
      "cell_type": "code",
      "source": "# Votre réponse ci-dessous :\n\n",
      "metadata": {},
      "outputs": [],
      "execution_count": null
    },
    {
      "id": "0ff9519a",
      "cell_type": "markdown",
      "source": "**2.\tConstruire avec votre classe MonGraphe un objet Graphe G’ correspondant au graphe ci -dessous:**",
      "metadata": {}
    },
    {
      "id": "f1a031b5",
      "cell_type": "markdown",
      "source": "<img src=\"https://github.com/Lionel-Helin-Oza/TP2.4-Les_Graphes/blob/main/graphe_G.png?raw=true\" width=\"450\">",
      "metadata": {}
    },
    {
      "id": "ca836921",
      "cell_type": "code",
      "source": "# Votre réponse ci-dessous :\n\n\n",
      "metadata": {},
      "outputs": [],
      "execution_count": null
    },
    {
      "id": "ab2885cb",
      "cell_type": "markdown",
      "source": "3.\tAfficher sa matrice d'adjacence. \n\n",
      "metadata": {}
    },
    {
      "id": "f2491a4d",
      "cell_type": "code",
      "source": "# Votre réponse ci-dessous :\n\n\n",
      "metadata": {},
      "outputs": [],
      "execution_count": null
    },
    {
      "id": "c28d9b71",
      "cell_type": "markdown",
      "source": "4.\tÉcrire une fonction est_graphe_complet(graphe) qui retourne True si le graphe pris en paramètre est complet, False sinon.\n(Voir si besoin wikipédia pour la définition d’un graphe complet)",
      "metadata": {}
    },
    {
      "id": "d7c3695d",
      "cell_type": "code",
      "source": "# Votre réponse ci-dessous :\n\n\n",
      "metadata": {},
      "outputs": [],
      "execution_count": null
    },
    {
      "id": "f61fd072",
      "cell_type": "markdown",
      "source": "---",
      "metadata": {}
    },
    {
      "id": "7358b1ca",
      "cell_type": "markdown",
      "source": "| <span style='color:Blue'> L.HELIN |  | |   | |     |<span style='color:Blue'> NSI Terminale | |   | ||<span style='color:Blue'> Lycée Ozanam (Lille) & Lycée NDPO (Orchies)|\n| --- | --- |--- |--- |--- |--- | --- | --- |--- |--- | --- | --- |",
      "metadata": {}
    }
  ]
}