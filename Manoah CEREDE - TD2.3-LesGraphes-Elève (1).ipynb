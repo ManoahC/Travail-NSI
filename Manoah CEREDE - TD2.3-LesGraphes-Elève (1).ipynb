{
  "metadata": {
    "kernelspec": {
      "name": "python",
      "display_name": "Python (Pyodide)",
      "language": "python"
    },
    "language_info": {
      "codemirror_mode": {
        "name": "python",
        "version": 3
      },
      "file_extension": ".py",
      "mimetype": "text/x-python",
      "name": "python",
      "nbconvert_exporter": "python",
      "pygments_lexer": "ipython3",
      "version": "3.8"
    },
    "colab": {
      "provenance": []
    }
  },
  "nbformat_minor": 5,
  "nbformat": 4,
  "cells": [
    {
      "id": "F8Imtqm4sxzt",
      "cell_type": "markdown",
      "source": "\n\n#TD2.3 - Les Graphes\n\n\n<p align =center>\n\n <img src='https://github.com/esabahi/NSI_Images/blob/main/NSI-Image.png?raw=true' width=400>\n\n</p>\n",
      "metadata": {
        "id": "F8Imtqm4sxzt"
      }
    },
    {
      "id": "OsDSHtc3r0Xy",
      "cell_type": "markdown",
      "source": "\n\n\n\n***Vocabulaire dans les graphes orientés***\n\n> ***Notion de chemin:***\n\n-   Soit G = (S, A) un graphe orienté. Un chemin dans G est une suite\n    > de sommets de S (un même sommet pouvant apparaître plusieurs\n    > fois)\n\n-   La longueur du chemin est le nombre d'arcs dans le chemin,\n    > c'est-à-dire k.\n\n-   S'il existe un chemin du sommet u au sommet v, on dira que c'est\n    > accessible à partir de u.\n\n-   Un chemin est élémentaire si les sommets qu'il contient sont tous\n    > distincts.\n\n-   Un chemin \\< s0, s1, ..., sk \\> forme un circuit si s0 = sk et si\n    > le chemin comporte au moins un arc (k ≥ 1).\n\n-   Ce circuit est élémentaire si, en plus, les sommets s1, s2, . . . ,\n    > sk sont tous distincts.\n\n-   Une boucle est un circuit de longueur 1.\n\nExemple:\n\nPour le graphe G ci dessous:*\n\n<img src=\"https://upload.wikimedia.org/wikipedia/commons/thumb/3/3b/Shortest_path_with_direct_weights.svg/440px-Shortest_path_with_direct_weights.svg.png\" style=\"width:5.33999in;height:2.47856in\" alt=\"bleu.png\" />\n\n-   Un chemin élémentaire dans ce graphe est (B,D,F)\n\nPour le graphe G ci dessous:\n\n<img src=\"https://encrypted-tbn0.gstatic.com/images?q=tbn:ANd9GcRsNFP61D7vEolhcflUADxe-WhN8gkad4hHlzt5UwereQBN9PcSd4DhKQX1I2wGbd-uR1M&usqp=CAU\" style=\"width:5.33999in;height:2.47856in\" alt=\"bleu.png\" />\n\n\n\n-   Un circuit élémentaire dans ce graphe est (b,c,e,b)\n\n> ***Notion de connexité:***\n\n-   Un graphe orienté G est fortement connexe si pour tout sommets x et\n    > y, il existe un chemin de x vers y et un chemin de y vers x.\n\n### Vocabulaires dans un graphe non orienté*\n\n###\n\n> ***Notion de chaîne:***\n\n*Soit G=(S,A) un graphe orienté (ou non).\n\n-   On appelle chaîne (au lieu de chemin) toute succession d'arêtes\n    > dont l'extrémité de l'une (sauf la dernière) est l'origine de la\n    > suivante.\n\n-   Le nombre d'arêtes qui composent une chaîne est appelé longueur de\n    > la chaîne.\n\n-   On appelle chaîne fermée toute chaîne dont l'origine et l'extrémité\n    > coïncident.\n\n-   On appelle cycle (au lieu de circuit) toute chaîne fermée dont les\n    > arêtes sont toutes distinctes.\n\n-   Un graphe sans cycle est dit acyclique.\n\n> ***La notion de connexité:***\n\n-   La notion de connexité s'applique aussi bien aux graphes orientés\n    > que non orientés. Un graphe G est connexe si pour tous sommets x\n    > et y, il existe une chaîne d'extrémité x et y.\n\n*Un exemple:*\n\n<img src=\"https://upload.wikimedia.org/wikipedia/commons/thumb/3/37/Graph_cycle.svg/1200px-Graph_cycle.svg.png\"  width=400 alt=\"cycle.png\" />\n\n-   Dans ce graphe, le cycle rouge est élémentaire. Le cycle bleu ne\n    > l'est pas.*\n\n-   La chaîne verte n'est pas fermée et ne forme donc pas un cycle.\n\n*d'après Wikipédia*\n\n\n\n\n\n\n\n\n",
      "metadata": {
        "id": "OsDSHtc3r0Xy"
      }
    },
    {
      "id": "IH_CMSC1wf2l",
      "cell_type": "markdown",
      "source": "**<u>Exercice 1</u>**\n\n\nOn considère le graphe suivant :\n\n<img src=\"https://info.blaisepascal.fr/wp-content/uploads/2021/01/drawit-diagram-122.png\" style=\"width:2.5327in;height:2.72384in\" />\n\n1.  Quel est le nombre de sommets ? d'arêtes ?\n\nIl y a 5 sommets et 7 arêtes\n",
      "metadata": {
        "id": "IH_CMSC1wf2l"
      }
    },
    {
      "id": "F6gFYVc6wkCN",
      "cell_type": "markdown",
      "source": "\n\n\n\n\n\n\n\n\n\n\n",
      "metadata": {
        "id": "F6gFYVc6wkCN"
      }
    },
    {
      "id": "iyXv3rcFwmis",
      "cell_type": "markdown",
      "source": "2.  Y a-t-il un cycle ? Si oui en donner un élémentaire.",
      "metadata": {
        "id": "iyXv3rcFwmis"
      }
    },
    {
      "id": "R-qF2ptaDT0L",
      "cell_type": "markdown",
      "source": "|     |\n|-----|\nVotre réponse:\nCycle : [B,E,D,B]\n---------\n<font color='green'>ici.....</font>",
      "metadata": {
        "id": "R-qF2ptaDT0L"
      }
    },
    {
      "id": "5HU9Hq3RwrT-",
      "cell_type": "markdown",
      "source": "3.  Quelle est la longueur du chemin élémentaire le plus long ? En donner un.",
      "metadata": {
        "id": "5HU9Hq3RwrT-"
      }
    },
    {
      "id": "o9a-A1mmDaOJ",
      "cell_type": "markdown",
      "source": "|     |\n|-----|\nVotre réponse:\nchemin élémentaire le plus long : [A,B,E,D,C]\n---------\n<font color='green'>ici.....</font>",
      "metadata": {
        "id": "o9a-A1mmDaOJ"
      }
    },
    {
      "id": "mTcwLnZh0D2Y",
      "cell_type": "markdown",
      "source": "4.  Quel est le sommet de plus grand (puis du plus petit) degré ? Donner le degré.",
      "metadata": {
        "id": "mTcwLnZh0D2Y"
      }
    },
    {
      "id": "T_tH6jR_Dbd0",
      "cell_type": "markdown",
      "source": "|     |\n|-----|\nVotre réponse:\nle sommet avec le plus grand degré est le sommet B (de degré 3) et le plus petit degré est le sommet C ou le sommet E qui ont tout les deux un degré de 1 \n---------\n<font color='green'>ici.....</font>",
      "metadata": {
        "id": "T_tH6jR_Dbd0"
      }
    },
    {
      "id": "kOgdj7ns0Mop",
      "cell_type": "markdown",
      "source": "5.  Ce graphe est-il complet ? Sinon, quelles arêtes faut-il ajouter ?",
      "metadata": {
        "id": "kOgdj7ns0Mop"
      }
    },
    {
      "id": "3nbUwn77Dc2C",
      "cell_type": "markdown",
      "source": "|     |\n|-----|\nVotre réponse:\nNon le graphe n'est pas complet. Il faudrait rajouter 3 arêtes en A, 4 arêtes en B, 4 arêtes en C, 3 arêtes en D et 4 arêtes en E\n---------\n<font color='green'>ici.....</font>",
      "metadata": {
        "id": "3nbUwn77Dc2C"
      }
    },
    {
      "id": "qIANzf_e0RwK",
      "cell_type": "markdown",
      "source": "6.  Donner la représentation sous forme de matrice d’adjacence du graphe.",
      "metadata": {
        "id": "qIANzf_e0RwK"
      }
    },
    {
      "id": "Mi-vEeHuDebi",
      "cell_type": "markdown",
      "source": "|     |\n|-----|\nVotre réponse:\nmatrice d'adjacence :\n  A B C D E\nA 0 1 0 1 0\nB 0 0 0 0 1\nC 0 1 0 0 0\nD 0 1 1 0 0\nE 0 0 0 1 0\n---------\n<font color='green'>ici.....</font>",
      "metadata": {
        "id": "Mi-vEeHuDebi"
      }
    },
    {
      "id": "-d60gojA0XTX",
      "cell_type": "markdown",
      "source": "7.  Donner la représentation sous forme de listes d’adjacence du graphe.\n\n",
      "metadata": {
        "id": "-d60gojA0XTX"
      }
    },
    {
      "id": "oy3_AgfkDgRK",
      "cell_type": "markdown",
      "source": "|     |\n|-----|\nVotre réponse:\nA --> [B,D]\nB --> [E]\nC --> [B]\nD --> [B,C]\nE --> [D]\n---------\n<font color='green'>ici.....</font>",
      "metadata": {
        "id": "oy3_AgfkDgRK"
      }
    },
    {
      "id": "zJ06hMa30baC",
      "cell_type": "markdown",
      "source": "8.  Comment déterminer à partir d’une liste d'adjacences qu’un graphe est complet ?",
      "metadata": {
        "id": "zJ06hMa30baC"
      }
    },
    {
      "id": "RSmlAusqDh3a",
      "cell_type": "markdown",
      "source": "|     |\n|-----|\nVotre réponse:\nPour déterminer si un graphe est complet à partir d'un liste d'adjacence on regarde si toutes les lettes sont présentent sur la même ligne. Exemple : A --> [B,C,D,E]\n---------\n<font color='green'>ici.....</font>",
      "metadata": {
        "id": "RSmlAusqDh3a"
      }
    },
    {
      "id": "SNMM5MwVxXvO",
      "cell_type": "markdown",
      "source": "**<u>Exercice 2: Parcours en largeur d’un graphe - BFS (Breadth First Search)</u>**\n\nParcourir un graphe en largeur à partir d’un sommet, consiste à visiter\nle sommet puis ses enfants, puis les enfants de ses enfants...\n\nComme on l’a déjà vu avec les arbres, il faut utiliser une file et une\nliste pour marquer les sommets visités..\n\nPrenons l'exemple de ce graphe :\n\n<img src=\"https://math.univ-lyon1.fr/irem/Formation_ISN/formation_parcours_graphes/largeur/images/graphe-matrice.png\" style=\"width:6.29944in;height:2in\" alt=\"Exemple-graphe-matrice\" />\n\n> G = dict()\n>\n> G\\['a'\\] = \\['b','c'\\]\n>\n> G\\['b'\\] = \\['a','d','e'\\]\n>\n> G\\['c'\\] = \\['a','d'\\]\n>\n> G\\['d'\\] = \\['b','c','e'\\]\n>\n> G\\['e'\\] = \\['b','d','f','g'\\]\n>\n> G\\['f'\\] = \\['e','g'\\]\n>\n> G\\['g'\\] = \\['e','f','h'\\]\n>\n> G\\['h'\\] = \\['g'\\]\n\n*On dispose d’un graphe(G), d’une liste(sommet_visité) et d’une file(f)\nLe sommet **de départ est par exemple ’b’**, on l’enfile.*\n\n> *Puis tant que la file n’est pas vide :*\n\n-   *On défile f dans une variable tmp •*\n\n-   *Si tmp n’est pas dans sommet_visité*\n\n    -   *On l’ajoute à sommet_visité*\n\n-   *Pour chaque voisin de tmp*\n\n    -   *S’il n’est ni dans sommet_visité ni dans la file*\n\n        -   *On l’enfile*\n\n*On renvoie sommet_visité*\n\n**<u>A faire </u>**\n\n\n1.  Compléter les contenus des variables tmp, sommet_visité et file dans\n    > le tableau (8 étapes/itérations incluses ) du google docs joint à ce notebook.",
      "metadata": {
        "id": "SNMM5MwVxXvO"
      }
    },
    {
      "id": "rDBQXvDexhhY",
      "cell_type": "markdown",
      "source": "**<u>Exercice 3:Parcours en profondeur d’un graphe - DFS(Depth First Search)</u>**\n\n\nParcourir un graphe en profondeur à partir d’un sommet, consiste à\nexplorer le graphe en suivant un chemin.\n\nLorsqu’on arrive sur un sommet qui n’a plus de voisins non visités, on\nle marque.\n\nPuis on remonte dans le chemin pour explorer les voisins non visités\nd’un autre sommet...\n\nOn utilise une pile et deux listes.\n\nNous nous baserons dans cette partie sur le même modèle de graphe G que\ncelui utilisé pour la description du parcours en largeur :\n\n<img src=\"https://math.univ-lyon1.fr/irem/Formation_ISN/formation_parcours_graphes/largeur/images/graphe-matrice.png\" style=\"width:6.29944in;height:2in\" alt=\"Exemple-graphe-matrice\" />\n\nOn dispose d’un graphe(G), de deux listes (sommets_visités ,\nsommets_fermés) et d’une pile(p)\n\n> Le sommet de départ est par exemple ’g’, on l’empile.\n>\n> On met le sommet de départ dans la liste sommets_visités\n>\n> Puis tant que la pile n’est pas vide :\n>\n> • On récupère le sommet de la pile dans une variable tmp • voisins\n> reçoit la liste des voisins de tmp non déjà visités\n>\n> • Si voisins n’est pas vide :\n\n-   v ← un voisin choisi au hasard\n\n-   sommets_visités ← v\n\n-   On empile v\n\n> • Sinon:\n\n-   sommets_fermés ← tmp\n\n-   On dépile p\n\n**<u>A faire:</u>**\n\nCompléter les contenus des variables dans le tableau (8\nétapes/itérations incluses ) de l'Exercice 3 dans le google docs joint à ce notebook.",
      "metadata": {
        "id": "rDBQXvDexhhY"
      }
    },
    {
      "id": "LCocmjklxsje",
      "cell_type": "markdown",
      "source": "**<u>Défi & jeu</u>**\n\n-   ***Quelqu’un ment !***\n\n> Un crime a eu lieu dans une maison. La nuit du crime, 8 personnes\n> étaient présentes (victime comprise). Chaque personne interrogée\n> fournit un alibi consistant à nommer 3 personnes avec lesquelles elle\n> était au moment du crime. L’inspecteur en déduit que nécessairement\n> quelqu’un a menti.\n\n**Trouver comment un graphe (le représenter par un dessin) peut\npermettre de résoudre le problème.**\n\n-  <u>Un jeu de Jeff Erickson</u> (https://jeffe.cs.illinois.edu)\n\nCe jeu se joue avec deux jetons (ou pièces de monnaie, d'où son nom) sur\nun graphe comme par exemple celui-ci :\n\n<img src='https://github.com/esabahi/NSI_Images/blob/main/zero.png?raw=true' width=400>\n\nIl s'agit d'un jeu à un seul joueur. Celui-ci place deux jetons sur des\nsommets bien précis du graphe, par exemple ceux-ci :\n\n<img src='https://github.com/esabahi/NSI_Images/blob/main/Un.png?raw=true' width=400>\n\nBouger un jeton signifie le déplacer vers un sommet adjacent à celui où\nil se trouve actuellement. Dans ce jeu, chaque tour du jeu consiste à\nbouger simultanément les deux jetons.\n\nPar exemple voici un tour de jeu possible :\n\n<img src='https://github.com/esabahi/NSI_Images/blob/main/deux.png?raw=true' width=400>\n\nÀ tout moment, un jeton peut revenir en arrière (ici, le rouge) :\n\n<img src='https://github.com/esabahi/NSI_Images/blob/main/trois.png?raw=true' width=400>\n\nLes jetons peuvent également se croiser:\n\n<img src='https://github.com/esabahi/NSI_Images/blob/main/quatre.png?raw=true' width=400>\n\n### Le but du jeu est d'amener, par une succession de tels mouvements, les deux jetons sur un même sommet.\n\nAvec le jeu ci-dessus, il y a une solution, si, si ! Pour rappel voici\nla position initiale des deux jetons :\n\n<img src='https://github.com/esabahi/NSI_Images/blob/main/cinq.png?raw=true' width=400>\n\n### Saurez-vous trouver cette solution ? Elle ne fait que 3 coups !\n\nPar contre, ce jeu n'a pas de solution :\n\n<img src='https://github.com/esabahi/NSI_Images/blob/main/six.png?raw=true' width=400>\n\n### Saurez-vous le montrer ?\n\n**Écrire une fonction** Python qui accepte en entrée un graphe (non\norienté) et deux de ses sommets, et qui renvoie le nombre minimal de\ncoups permettant de résoudre le jeu sur ce graphe. S'il n'y a pas de\nsolution la fonction peut renvoyer “pas de solution”.\n\n**Ressources**:\n\n-   wikipédia: La théorie des graphes\n\n-   Jeux et graphes - La théorie des graphes de 5 à 95 ans de Alain Busser\n\n-   univ-lille1.fr\n\n-   [<u>http://math.univ-lyon1.fr/&</u>](http://math.univ-lyon1.fr/&)",
      "metadata": {
        "id": "LCocmjklxsje"
      }
    },
    {
      "id": "w4wD41yhFztX",
      "cell_type": "markdown",
      "source": "|<span style='color:Blue'> E.S |  | |   | |     |<span style='color:Blue'> NSI Première & Terminale | |   | ||<span style='color:Blue'> Lycée Ozanam (Lille)\n| --- | --- |--- |--- |--- |--- | --- | --- |--- |--- | --- | --- |",
      "metadata": {
        "id": "w4wD41yhFztX"
      }
    }
  ]
}