{
  "metadata": {
    "kernelspec": {
      "name": "python",
      "display_name": "Python (Pyodide)",
      "language": "python"
    },
    "language_info": {
      "codemirror_mode": {
        "name": "python",
        "version": 3
      },
      "file_extension": ".py",
      "mimetype": "text/x-python",
      "name": "python",
      "nbconvert_exporter": "python",
      "pygments_lexer": "ipython3",
      "version": "3.8"
    }
  },
  "nbformat_minor": 5,
  "nbformat": 4,
  "cells": [
    {
      "id": "1443e017",
      "cell_type": "markdown",
      "source": "---",
      "metadata": {}
    },
    {
      "id": "d15d6e61",
      "cell_type": "markdown",
      "source": "<img src=\"https://github.com/Lionel-Helin-Oza/Images_Notebook/blob/main/NSI-Image.png?raw=true\" alt=\"drawing\" width=\"350\">",
      "metadata": {}
    },
    {
      "id": "aff477f4",
      "cell_type": "markdown",
      "source": "# TP6.1 - Les Arbres - Comment parcourir un Arbre ?\n\nDurée de l'activité proposé : 2h",
      "metadata": {}
    },
    {
      "id": "d3651f9a",
      "cell_type": "markdown",
      "source": "<img src=\"https://github.com/Lionel-Helin-Oza/TP2.3-Les-Arbres-Impl-mentation-/blob/main/Image1.png?raw=true\" width=\"350\">",
      "metadata": {}
    },
    {
      "id": "9f2c3b8b",
      "cell_type": "markdown",
      "source": "---",
      "metadata": {}
    },
    {
      "id": "bcf7f79f",
      "cell_type": "markdown",
      "source": "## <span style='color:Red'> *Préambule*   \n\n\nCe TP vient à la suite du **TP 2.3 sur l’implémentation des arbres binaires**. \n\nLe corrigé de ce TP 2.3 vous est donc donné ci-dessous afin de permettre à chacun de travailler sur la notion de parcours, même si vous n’avez pas réussi l’implémentation. \n    \n**Le code ci-dessous est donc à exécuter avant de traiter les exercices suivants.**\n\nVous utiliserez donc l’implémentation proposé (ainsi que les notations) dans ce corrigé pour les exercices suivants.\n",
      "metadata": {}
    },
    {
      "id": "1b5289e8",
      "cell_type": "code",
      "source": "##################################################################\n# TP 2.3 - Implémentation des Arbres - Proposition de Correction #\n##################################################################\n\nclass ArbreBinaire:\n  def __init__(self, valeur):\n    self.contenu = valeur\n    self.filsGauche = None\n    self.filsDroit = None\n\n  def ajoutFilsGauche(self, valeur):\n    if self.filsGauche == None :\n      self.filsGauche = ArbreBinaire(valeur)\n    else :\n      self.filsGauche.ajoutFilsGauche(valeur)\n\n  def ajoutFilsDroit(self, valeur):\n    if self.filsDroit == None :\n      self.filsDroit = ArbreBinaire(valeur)\n    else :\n      self.filsDroit.ajoutFilsDroit(valeur)\n\n  def ajoutContenu(self, valeur):\n    if valeur != self.contenu:\n      if valeur < self.contenu:\n        if self.filsGauche == None:      # On peut utiliser la méthode ajoutFilsGauche\n          self.filsGauche = ArbreBinaire(valeur)\n        else:\n          self.filsGauche.ajoutContenu(valeur)\n      else:\n        if self.filsDroit == None:      # On peut utiliser la méthode ajoutFilsDroit\n          self.filsDroit = ArbreBinaire(valeur)\n        else:\n          self.filsDroit.ajoutContenu(valeur)\n\n  def __str__(self):\n    return (\"[ Contenu : {} / Fils Gauche : {} / Fils Droit : {} ] \".format(self.contenu, self.filsGauche, self.filsDroit));\n\n\n# Test de la création d'un arbre\n\narbreWiki = ArbreBinaire(8)           # Instanciation de la racine de l'arbre avec la valeur 8\narbreWiki.ajoutContenu(3)             # Ajout des données\narbreWiki.ajoutContenu(10)\narbreWiki.ajoutContenu(1)\narbreWiki.ajoutContenu(6)\narbreWiki.ajoutContenu(14)\narbreWiki.ajoutContenu(4)\narbreWiki.ajoutContenu(7)\narbreWiki.ajoutContenu(13)\n\nprint(arbreWiki)\n\n###################\n# Correction Ex 4 #\n###################\ndef taille(arbre):\n  somme = 0                               # On crée une variable pour sommer les tailles des sous-arbres\n  if (arbre.filsGauche != None):\n    somme += taille(arbre.filsGauche)     # On récupère la taille du sous-arbre gauche, s'il existe, et l'additionne\n  if (arbre.filsDroit != None):\n    somme += taille(arbre.filsDroit)      # On récupère la taille du sous-arbre droit, s'il existe, et l'additionne\n  return somme + 1                        # On retourne la taille totale + 1 qui correspond à la taille du noeud courant\n\n# Autre implémentation possible de la fonction taille\n\ndef taille2(arbre):\n    if arbre == None:\n        return 0\n    else :\n        return (1 + taille2(arbre.filsGauche)+ taille2(arbre.filsDroit))\n\n###################\n# Correction Ex 5 #\n###################\ndef hauteur(arbre):\n\n  hauteurFilsGauche = -1                   # On crée une variable pour récupérer la taille du sous-arbres Gauche\n  hauteurFilsDroit = -1                    # On crée une variable pour récupérer la taille du sous-arbres Droit\n  if (arbre.filsGauche != None):\n    hauteurFilsGauche = hauteur(arbre.filsGauche)     # On récupère la hauteur du sous-arbre gauche, s'il existe\n  if (arbre.filsDroit != None):\n    hauteurFilsDroit = hauteur(arbre.filsDroit)       # On récupère la hauteur du sous-arbre droit, s'il existe\n  return max(hauteurFilsGauche, hauteurFilsDroit) + 1 # On retourne la hauteur max + 1 qui correspond à la hauteur du noeud courant\n\n# Autre implémentation possible de la fonction hauteur\n\ndef hauteur2(arbre):\n\n    if arbre is None:\n        return -1\n    else:\n        return 1 + max(hauteur2(arbre.filsGauche), hauteur2(arbre.filsDroit))\n\n\n###################\n# Correction Ex 6 #\n###################\n\ndef appartient(x,Arbre):\n\n    if Arbre == None:\n        return False\n    elif Arbre.contenu == x:\n        return True\n    elif Arbre.contenu > x:\n        return appartient(x, Arbre.filsGauche)\n    else:\n        return appartient(x, Arbre.filsDroit)\n\n",
      "metadata": {},
      "outputs": [
        {
          "name": "stdout",
          "output_type": "stream",
          "text": [
            "[ Contenu : 8 / Fils Gauche : [ Contenu : 3 / Fils Gauche : [ Contenu : 1 / Fils Gauche : None / Fils Droit : None ]  / Fils Droit : [ Contenu : 6 / Fils Gauche : [ Contenu : 4 / Fils Gauche : None / Fils Droit : None ]  / Fils Droit : [ Contenu : 7 / Fils Gauche : None / Fils Droit : None ]  ]  ]  / Fils Droit : [ Contenu : 10 / Fils Gauche : None / Fils Droit : [ Contenu : 14 / Fils Gauche : [ Contenu : 13 / Fils Gauche : None / Fils Droit : None ]  / Fils Droit : None ]  ]  ] \n"
          ]
        }
      ],
      "execution_count": 1
    },
    {
      "id": "fb4f39e3",
      "cell_type": "markdown",
      "source": "---",
      "metadata": {}
    },
    {
      "id": "1a0e8bd3",
      "cell_type": "markdown",
      "source": "## <span style='color:Red'> Quelques rappels : Comment parcourir un arbre ? \n\n## *1)\tDéfinition générale*\n    \n*Étant donné un arbre, un parcours est un processus qui part d'un nœud, et visite tous les nœuds du graphe une seule fois, avec la contrainte qu'un nœud ne peut être visité que si l'un de ses voisins a été visité. Dans le cas des arbres, le nœud de départ est souvent la racine, et le parcours passe donc des parents aux enfants. (Wikipédia).*\n\nIl existe plusieurs manières de parcourir un Arbre. \n\nNous prendrons dans ce qui suit, l’exemple de l’arbre ci-dessous (Arbre Binaire de recherche du TP2.3)  :\n",
      "metadata": {}
    },
    {
      "id": "1eaf1b08",
      "cell_type": "markdown",
      "source": "<img src=\"https://github.com/Lionel-Helin-Oza/TP2.3-Les-Arbres-Impl-mentation-/blob/main/Image6.png?raw=true\" width=\"300\">",
      "metadata": {}
    },
    {
      "id": "07e7b483",
      "cell_type": "markdown",
      "source": "## *2)\tExplorer les arbres en profondeur*\n\n\nPour parcourir un arbre nous pouvons nous y prendre de plusieurs manières. La plus évidente est la manière dite \"en profondeur\". Cela sous-entend que nous allons explorer chaque branche, jusqu'aux feuilles avant de passer à la branche d'à côté.\n\nTravaillons maintenant sur l'implémentation Python de ce type de parcours.\n",
      "metadata": {}
    },
    {
      "id": "265ea2da",
      "cell_type": "markdown",
      "source": "### <span style='color:Blue'> Exercice 1 (Parcours en profondeur - PREFIXE)\n\nCi-dessous nous allons voir comment nous déplacer dans un arbre. Voici ce que fait la fonction :\n\n+ afficher le contenu de l'arbre passé en paramètre\n+ Si il y a un fils Gauche, on relance la fonction sur le sous-arbre Gauche (récursion)\n+ Si il y a un fils Droit, on relance la fonction sur le sous-arbre Droit (récursion)\n\n**1 - Compléter le code ci-dessous pour réaliser le parcours en profondeur de l’arbre « Wiki>**\n\nVous devez obtenir le résultat suivant : 8 3 1 6 4 7 10 14 13  \n\n(Vous comparerez la sortie de la fonction avec l'arbre, et vous pourrez constater que l'algorithme va d'abord aller \"au plus profond\" avant de monter d'un cran pour essayer par une autre branche, et ce, ainsi de suite jusqu'à avoir terminé l'exploration).\n",
      "metadata": {}
    },
    {
      "id": "e67801e6",
      "cell_type": "markdown",
      "source": "***Votre réponse ci-dessous :*** ( code à compléter, voir commentaires pour vous guider en fin de ligne)",
      "metadata": {}
    },
    {
      "id": "aa796d47",
      "cell_type": "code",
      "source": "def parcoursProfondeurPrefixe(arbre):\n    print (arbre.contenu, end=\" \")   # On affiche le contenu de la racine de l'arbre passé en paramètre\n    if arbre.filsGauche: # Y a-t'il un fils Gauche\n        filsGauche.parcoursProfondeurPrefixe(arbre.filsGauche) # Oui donc on se relance dessus (recursion sur le sous-arbre gauche)\n    if arbre.filsDroit:  # Y a-t'il un fils Droit\n        filsDroit.parcoursProfondeurPrefixe(arbre.filsDroit) # Oui donc on se relance dessus (recursion sur le sous-arbre droit)",
      "metadata": {},
      "outputs": [],
      "execution_count": 2
    },
    {
      "id": "bd213199",
      "cell_type": "markdown",
      "source": "**2 - Tester votre fonction sur l'arbre Wiki**",
      "metadata": {}
    },
    {
      "id": "a2753c44",
      "cell_type": "code",
      "source": "# Votre réponse ci-dessous ( test de la fonction):\n\ndef parcoursProfondeurPrefixe(arbre):\n    print (arbre.contenu, end=\" \")   # On affiche le contenu de la racine de l'arbre passé en paramètre\n    if arbre.filsGauche: # Y a-t'il un fils Gauche\n        parcoursProfondeurPrefixe(arbre.filsGauche) # Oui donc on se relance dessus (recursion sur le sous-arbre gauche)\n    if arbre.filsDroit:  # Y a-t'il un fils Droit\n        parcoursProfondeurPrefixe(arbre.filsDroit) # Oui donc on se relance dessus (recursion sur le sous-arbre droit)\n\nclass ArbreBinaire:\n  def __init__(self, valeur):\n    self.contenu = valeur\n    self.filsGauche = None\n    self.filsDroit = None\n\n  def ajoutFilsGauche(self, valeur):\n    if self.filsGauche == None :\n      self.filsGauche = ArbreBinaire(valeur)\n    else :\n      self.filsGauche.ajoutFilsGauche(valeur)\n\n  def ajoutFilsDroit(self, valeur):\n    if self.filsDroit == None :\n      self.filsDroit = ArbreBinaire(valeur)\n    else :\n      self.filsDroit.ajoutFilsDroit(valeur)\n\n  def ajoutContenu(self, valeur):\n    if valeur != self.contenu:\n      if valeur < self.contenu:\n        if self.filsGauche == None:      # On peut utiliser la méthode ajoutFilsGauche\n          self.filsGauche = ArbreBinaire(valeur)\n        else:\n          self.filsGauche.ajoutContenu(valeur)\n      else:\n        if self.filsDroit == None:      # On peut utiliser la méthode ajoutFilsDroit\n          self.filsDroit = ArbreBinaire(valeur)\n        else:\n          self.filsDroit.ajoutContenu(valeur)\n\n  def __str__(self):\n    return (\"[ Contenu : {} / Fils Gauche : {} / Fils Droit : {} ] \".format(self.contenu, self.filsGauche, self.filsDroit));\n\n\n# Test de la création d'un arbre\n\narbreWiki = ArbreBinaire(8)           # Instanciation de la racine de l'arbre avec la valeur 8\narbreWiki.ajoutContenu(3)             # Ajout des données\narbreWiki.ajoutContenu(10)\narbreWiki.ajoutContenu(1)\narbreWiki.ajoutContenu(6)\narbreWiki.ajoutContenu(14)\narbreWiki.ajoutContenu(4)\narbreWiki.ajoutContenu(7)\narbreWiki.ajoutContenu(13)\n\nparcoursProfondeurPrefixe(arbreWiki)",
      "metadata": {
        "trusted": true
      },
      "outputs": [
        {
          "name": "stdout",
          "text": "8 3 1 6 4 7 10 14 13 ",
          "output_type": "stream"
        }
      ],
      "execution_count": 6
    },
    {
      "id": "52fa9b77",
      "cell_type": "markdown",
      "source": "---",
      "metadata": {}
    },
    {
      "id": "48098c62",
      "cell_type": "markdown",
      "source": "## *3)\tParcours PRÉFIXE / INFIXE / POSTFIXE*",
      "metadata": {}
    },
    {
      "id": "7b3138e9",
      "cell_type": "markdown",
      "source": "Si nous revenons aux parcours en profondeurs, il y a une notion importante à remarquer.\n\nLorsque nous parcourons un arbre, il y a toujours un moment où l'on traite le contenu. Prenons l'exemple d'une fonction qui a pour but d'afficher le contenu de l'arbre. Comme nous l'avons vu, cette fonction sera récursive, et se relancera sur les fils lorsqu'ils existent.\n\nComme nous l'avons vu, la fonction fera donc les opérations suivantes :\n\n+ Afficher le contenu\n+ Se relancer sur le fils gauche s'il existe (récursion)\n+ Se relancer sur le fils droit s'il existe (récursion)\nRien de neuf. \n\nCependant nous pouvons nous poser la question d'à quel moment nous faisons \"Afficher le contenu du noeud\" ?\n\nEn effet, rien n’oblige de le faire en premier... Pourquoi pas en dernier, voire même au milieu...\n\nCela va uniquement impacter l'ordre dans lequel les valeurs seront affichées.\n\n",
      "metadata": {}
    },
    {
      "id": "03cdd82e",
      "cell_type": "markdown",
      "source": "***- Le parcours préfixe.***\n\nOn qualifiera de préfixe, le parcours qui opérera sur le contenu d'un nœud, la première fois qu'il le rencontre !\n⇒ cela revient à traiter la racine, parcourir le sous-arbre gauche, puis le sous-arbre droit\n\nPour l’arbre « Wiki », nous devons obtenir le parcours : 8 3 1 6 4 7 10 14 13 \n\nCe parcours est celui que nous avons implémenter à l'exercice 1.\n",
      "metadata": {}
    },
    {
      "id": "ae40589d",
      "cell_type": "markdown",
      "source": "***- Le parcours Suffixe ou Postfixe.***\n\nOn qualifiera de suffixe ou postfixe, le parcours qui opérera sur le contenu d'un nœud, la dernière fois qu'il le rencontre !\n\n⇒ cela revient à parcourir le sous-arbre gauche, parcourir le sous-arbre droit, puis traiter la racine.\n\nPour l’arbre « Wiki », nous devons obtenir le parcours : 1 4 7 6 3 13 14 10 8\n",
      "metadata": {}
    },
    {
      "id": "503d9871",
      "cell_type": "markdown",
      "source": "### <span style='color:Blue'> Exercice 2 (Parcours en profondeur - SUFFIXE)\n    \n**1 - Ecrire la fonction `def parcoursProfondeurSuffixe(arbre)` permettant de parcourir un Arbre suivant le parcours suffixe présenté ci-dessus.**",
      "metadata": {}
    },
    {
      "id": "c29774cb",
      "cell_type": "code",
      "source": "# Votre réponse ci-dessous :\n\ndef parcoursProfondeurSuffixe(arbre):\n    if arbre.filsGauche:\n        parcoursProfondeurSuffixe(arbre.filsGauche)\n    if arbre.filsDroit:\n        parcoursProfondeurSuffixe(arbre.filsDroit)\n    print(arbre.contenu, end=\" \")",
      "metadata": {},
      "outputs": [
        {
          "ename": "IndentationError",
          "evalue": "expected an indented block (Temp/ipykernel_16960/1979910844.py, line 7)",
          "output_type": "error",
          "traceback": [
            "\u001b[1;36m  File \u001b[1;32m\"C:\\Users\\lione\\AppData\\Local\\Temp/ipykernel_16960/1979910844.py\"\u001b[1;36m, line \u001b[1;32m7\u001b[0m\n\u001b[1;33m    \u001b[0m\n\u001b[1;37m    ^\u001b[0m\n\u001b[1;31mIndentationError\u001b[0m\u001b[1;31m:\u001b[0m expected an indented block\n"
          ]
        }
      ],
      "execution_count": 4
    },
    {
      "id": "40de6118",
      "cell_type": "markdown",
      "source": "**2 - Tester votre fonction sur l'arbre Wiki**",
      "metadata": {}
    },
    {
      "id": "60e21697",
      "cell_type": "code",
      "source": "# Votre réponse ci-dessous ( test de la fonction):\n\ndef parcoursProfondeurSuffixe(arbre):\n    if arbre.filsGauche:\n        parcoursProfondeurSuffixe(arbre.filsGauche)\n    if arbre.filsDroit:\n        parcoursProfondeurSuffixe(arbre.filsDroit)\n    print(arbre.contenu, end=\" \")\n\nclass ArbreBinaire:\n  def __init__(self, valeur):\n    self.contenu = valeur\n    self.filsGauche = None\n    self.filsDroit = None\n\n  def ajoutFilsGauche(self, valeur):\n    if self.filsGauche == None :\n      self.filsGauche = ArbreBinaire(valeur)\n    else :\n      self.filsGauche.ajoutFilsGauche(valeur)\n\n  def ajoutFilsDroit(self, valeur):\n    if self.filsDroit == None :\n      self.filsDroit = ArbreBinaire(valeur)\n    else :\n      self.filsDroit.ajoutFilsDroit(valeur)\n\n  def ajoutContenu(self, valeur):\n    if valeur != self.contenu:\n      if valeur < self.contenu:\n        if self.filsGauche == None:      # On peut utiliser la méthode ajoutFilsGauche\n          self.filsGauche = ArbreBinaire(valeur)\n        else:\n          self.filsGauche.ajoutContenu(valeur)\n      else:\n        if self.filsDroit == None:      # On peut utiliser la méthode ajoutFilsDroit\n          self.filsDroit = ArbreBinaire(valeur)\n        else:\n          self.filsDroit.ajoutContenu(valeur)\n\n  def __str__(self):\n    return (\"[ Contenu : {} / Fils Gauche : {} / Fils Droit : {} ] \".format(self.contenu, self.filsGauche, self.filsDroit));\n\n\n# Test de la création d'un arbre\n\narbreWiki = ArbreBinaire(8)           # Instanciation de la racine de l'arbre avec la valeur 8\narbreWiki.ajoutContenu(3)             # Ajout des données\narbreWiki.ajoutContenu(10)\narbreWiki.ajoutContenu(1)\narbreWiki.ajoutContenu(6)\narbreWiki.ajoutContenu(14)\narbreWiki.ajoutContenu(4)\narbreWiki.ajoutContenu(7)\narbreWiki.ajoutContenu(13)\n\nparcoursProfondeurSuffixe(arbreWiki)",
      "metadata": {
        "trusted": true
      },
      "outputs": [
        {
          "name": "stdout",
          "text": "1 4 7 6 3 13 14 10 8 ",
          "output_type": "stream"
        }
      ],
      "execution_count": 7
    },
    {
      "id": "3333bfd2",
      "cell_type": "markdown",
      "source": "***- Le parcours Infixe.***\n\nEnfin, entre le préfixe et le suffixe, nous allons trouver l'infixe. Vous l'aurez sûrement compris, nous allons traiter le contenu entre la récursion vers le fils gauche, et la récursion vers le fils droit.\n\n⇒ cela revient à parcourir le sous-arbre gauche, traiter la racine, puis parcourir le sous-arbre droit. \n\nPour l’arbre « Wiki », nous devons obtenir le parcours : 1 3 4 6 7 8 10 13 14\n\nCe dernier est surprenant et très intéressant, car vous aurez sûrement remarqué que l'affichage d'un parcours infixe nous permet de récupérer les contenus des nœuds dans l'ordre croissant !!!\n",
      "metadata": {}
    },
    {
      "id": "a4ef8fc7",
      "cell_type": "markdown",
      "source": "### <span style='color:Blue'> Exercice 3 (Parcours en profondeur - INFIXE)\n    \n**1 - Ecrire la fonction `def parcoursProfondeurInfixe(arbre)` permettant de parcourir un Arbre suivant le parcours suffixe présenté ci-dessus.**",
      "metadata": {}
    },
    {
      "id": "c909b7f1",
      "cell_type": "code",
      "source": "# Votre réponse ci-dessous :\n\ndef parcoursProfondeurInfixe(arbre):\n    if arbre.filsGauche:\n        parcoursProfondeurInfixe(arbre.filsGauche)\n    print(arbre.contenu, end=\" \")\n    if arbre.filsDroit:\n        parcoursProfondeurInfixe(arbre.filsDroit)",
      "metadata": {},
      "outputs": [],
      "execution_count": null
    },
    {
      "id": "90c69092",
      "cell_type": "markdown",
      "source": "**2 - Tester votre fonction sur l'arbre Wiki**",
      "metadata": {}
    },
    {
      "id": "4a9eaa1c",
      "cell_type": "code",
      "source": "# Votre réponse ci-dessous ( test de la fonction):\n\ndef parcoursProfondeurInfixe(arbre):\n    if arbre.filsGauche:\n        parcoursProfondeurInfixe(arbre.filsGauche)\n    print(arbre.contenu, end=\" \")\n    if arbre.filsDroit:\n        parcoursProfondeurInfixe(arbre.filsDroit)\n\nclass ArbreBinaire:\n  def __init__(self, valeur):\n    self.contenu = valeur\n    self.filsGauche = None\n    self.filsDroit = None\n\n  def ajoutFilsGauche(self, valeur):\n    if self.filsGauche == None :\n      self.filsGauche = ArbreBinaire(valeur)\n    else :\n      self.filsGauche.ajoutFilsGauche(valeur)\n\n  def ajoutFilsDroit(self, valeur):\n    if self.filsDroit == None :\n      self.filsDroit = ArbreBinaire(valeur)\n    else :\n      self.filsDroit.ajoutFilsDroit(valeur)\n\n  def ajoutContenu(self, valeur):\n    if valeur != self.contenu:\n      if valeur < self.contenu:\n        if self.filsGauche == None:      # On peut utiliser la méthode ajoutFilsGauche\n          self.filsGauche = ArbreBinaire(valeur)\n        else:\n          self.filsGauche.ajoutContenu(valeur)\n      else:\n        if self.filsDroit == None:      # On peut utiliser la méthode ajoutFilsDroit\n          self.filsDroit = ArbreBinaire(valeur)\n        else:\n          self.filsDroit.ajoutContenu(valeur)\n\n  def __str__(self):\n    return (\"[ Contenu : {} / Fils Gauche : {} / Fils Droit : {} ] \".format(self.contenu, self.filsGauche, self.filsDroit));\n\n\n# Test de la création d'un arbre\n\narbreWiki = ArbreBinaire(8)           # Instanciation de la racine de l'arbre avec la valeur 8\narbreWiki.ajoutContenu(3)             # Ajout des données\narbreWiki.ajoutContenu(10)\narbreWiki.ajoutContenu(1)\narbreWiki.ajoutContenu(6)\narbreWiki.ajoutContenu(14)\narbreWiki.ajoutContenu(4)\narbreWiki.ajoutContenu(7)\narbreWiki.ajoutContenu(13)\n\nparcoursProfondeurInfixe(arbreWiki)",
      "metadata": {
        "trusted": true
      },
      "outputs": [
        {
          "name": "stdout",
          "text": "1 3 4 6 7 8 10 13 14 ",
          "output_type": "stream"
        }
      ],
      "execution_count": 8
    },
    {
      "id": "1451db39",
      "cell_type": "markdown",
      "source": "---",
      "metadata": {}
    },
    {
      "id": "bda4d361",
      "cell_type": "markdown",
      "source": "## *4)\tExplorer les arbres en largeur*",
      "metadata": {}
    },
    {
      "id": "987d0c92",
      "cell_type": "markdown",
      "source": "Maintenant que nous avons vu le parcours en profondeur et différentes utilisations, nous vous proposons de découvrir le parcours en largeur.\n\nIl est simple à comprendre. A l'inverse de l'autre, nous n'allons pas chercher à explorer les branches jusqu'à leur fin mais plutôt explorer l'arbre, étage par étage.\n\nSi cette exploration est facile à comprendre, elle sera plus délicate à programmer.\n\nCette fois-ci la fonction ne sera pas récursive. Le soucis de cette exploration est qu'elle ne va pas suivre les \"liens\" de l'arbre. Il n'y aura donc pas de moyens de nous déplacer en se contentant de récupérer les fils gauches et les fils droits. Il va donc nous falloir \"mémoriser\" les fils que nous trouvons, pour revenir les explorer plus tard, lorsque nous seront arrivé \"au bout\" de l'étage en cours.\n\nPour ce faire nous allons faire un lien avec les cours précédents car nous aurons besoin des files. En effet, la sauvegarde sera effectuée dans une file d'attente de type LIFO.\n\nVoici ce que l'algorithme doit faire :\n\n1.\tCréer une file (LIFO)\n2.\tMettre le nœud source dans la file.\n3.\tRetirer le nœud du début de la file pour le traiter.\n4.\tMettre tous ses voisins non explorés dans la file (à la fin).\n5.\tSi la file n'est pas vide reprendre à l'étape 3.\n\n",
      "metadata": {}
    },
    {
      "id": "6e472ced",
      "cell_type": "markdown",
      "source": "**1 - Compléter le code ci-dessous pour réaliser le parcours en largeur d'un arbre**",
      "metadata": {}
    },
    {
      "id": "a657e68b",
      "cell_type": "code",
      "source": "from collections import deque\n\ndef parcoursLargeur(arbre):\n    fifo = deque()                      # Création de la fifo deque()\n    fifo.append(arbre)                  # Ajout de l'arbre dans la file\n\n    while fifo != []:          # tant que la liste n'est pas vide ? \n        tete = fifo[0]      # On récupère la tête de la file\n        print(tete)      # On affiche le contenu du noeud récupéré\n\n        if arbre.filsGauche:     # Si...\n            fifo.append(arbre.filsGauche)  # On ajoute le fils gauche dans la file\n\n        if arbre.filsDroit:      # Si...\n            fifo.append(arbre.filsDroit)  # On ajoute le fils droit dans la file\n",
      "metadata": {},
      "outputs": [],
      "execution_count": null
    },
    {
      "id": "461507bd",
      "cell_type": "markdown",
      "source": "**2 - Tester votre fonction sur l'arbre Wiki**\n\nVous devez obtenir 8 3 10 1 6 14 4 7 13  comme réponse. ",
      "metadata": {}
    },
    {
      "id": "f05d62cd",
      "cell_type": "code",
      "source": "# Votre réponse ci-dessous ( test de la fonction):\n\nfrom collections import deque\n\nclass ArbreBinaire:\n  def __init__(self, valeur):\n    self.contenu = valeur\n    self.filsGauche = None\n    self.filsDroit = None\n\n  def ajoutFilsGauche(self, valeur):\n    if self.filsGauche == None :\n      self.filsGauche = ArbreBinaire(valeur)\n    else :\n      self.filsGauche.ajoutFilsGauche(valeur)\n\n  def ajoutFilsDroit(self, valeur):\n    if self.filsDroit == None :\n      self.filsDroit = ArbreBinaire(valeur)\n    else :\n      self.filsDroit.ajoutFilsDroit(valeur)\n\n  def ajoutContenu(self, valeur):\n    if valeur != self.contenu:\n      if valeur < self.contenu:\n        if self.filsGauche == None:      # On peut utiliser la méthode ajoutFilsGauche\n          self.filsGauche = ArbreBinaire(valeur)\n        else:\n          self.filsGauche.ajoutContenu(valeur)\n      else:\n        if self.filsDroit == None:      # On peut utiliser la méthode ajoutFilsDroit\n          self.filsDroit = ArbreBinaire(valeur)\n        else:\n          self.filsDroit.ajoutContenu(valeur)\n\n  def __str__(self):\n    return (\"[ Contenu : {} / Fils Gauche : {} / Fils Droit : {} ] \".format(self.contenu, self.filsGauche, self.filsDroit));\n\n\n# Test de la création d'un arbre\n\narbreWiki = ArbreBinaire(8)           # Instanciation de la racine de l'arbre avec la valeur 8\narbreWiki.ajoutContenu(3)             # Ajout des données\narbreWiki.ajoutContenu(10)\narbreWiki.ajoutContenu(1)\narbreWiki.ajoutContenu(6)\narbreWiki.ajoutContenu(14)\narbreWiki.ajoutContenu(4)\narbreWiki.ajoutContenu(7)\narbreWiki.ajoutContenu(13)\n\ndef parcoursLargeur(arbre):\n    fifo = deque()                      # Création de la fifo deque()\n    fifo.append(arbre)                  # Ajout de l'arbre dans la file\n\n    while len(fifo) != 0:          # tant que la liste n'est pas vide ? \n        tete = fifo.popleft() # On récupère la tête de la file\n        print(tete.contenu) # On affiche le contenu du noeud récupéré\n              \n        if tete.filsGauche:     # Si...\n            fifo.append(tete.filsGauche)  # On ajoute le fils gauche dans la file\n\n        if tete.filsDroit:      # Si...\n            fifo.append(tete.filsDroit)  # On ajoute le fils droit dans la file\n            \nparcoursLargeur(arbreWiki)",
      "metadata": {
        "trusted": true
      },
      "outputs": [
        {
          "name": "stdout",
          "text": "8\n3\n10\n1\n6\n14\n4\n7\n13\n",
          "output_type": "stream"
        }
      ],
      "execution_count": 14
    },
    {
      "id": "f61fd072",
      "cell_type": "markdown",
      "source": "---",
      "metadata": {}
    },
    {
      "id": "7358b1ca",
      "cell_type": "markdown",
      "source": "| <span style='color:Blue'> L.HELIN |  | |   | |     |<span style='color:Blue'> NSI Terminale | |   | ||<span style='color:Blue'> Lycée Ozanam (Lille) & Lycée NDPO (Orchies)|\n| --- | --- |--- |--- |--- |--- | --- | --- |--- |--- | --- | --- |",
      "metadata": {}
    }
  ]
}